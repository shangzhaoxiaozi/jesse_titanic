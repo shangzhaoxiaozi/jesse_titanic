{
 "cells": [
  {
   "cell_type": "code",
   "execution_count": 196,
   "id": "a0be3847",
   "metadata": {
    "ExecuteTime": {
     "end_time": "2021-09-17T07:55:09.222544Z",
     "start_time": "2021-09-17T07:55:09.217531Z"
    }
   },
   "outputs": [],
   "source": [
    "import numpy as np\n",
    "import pandas as pd\n",
    "\n",
    "import matplotlib.pyplot as plt\n",
    "import matplotlib\n",
    "matplotlib.rcParams['font.family'] = 'STSong'\n",
    "import seaborn as sns\n",
    "from sklearn.ensemble import RandomForestClassifier\n",
    "from sklearn.preprocessing import OneHotEncoder, LabelEncoder, StandardScaler\n",
    "\n",
    "\n",
    "import warnings\n",
    "warnings.filterwarnings('ignore')"
   ]
  },
  {
   "cell_type": "markdown",
   "id": "c13e996b",
   "metadata": {},
   "source": [
    "# 数据读取"
   ]
  },
  {
   "cell_type": "code",
   "execution_count": 197,
   "id": "6c35ba01",
   "metadata": {
    "ExecuteTime": {
     "end_time": "2021-09-17T07:55:09.249617Z",
     "start_time": "2021-09-17T07:55:09.224550Z"
    }
   },
   "outputs": [
    {
     "name": "stdout",
     "output_type": "stream",
     "text": [
      "df_all********************\n",
      "Index(['PassengerId', 'Survived', 'Pclass', 'Name', 'Sex', 'Age', 'SibSp',\n",
      "       'Parch', 'Ticket', 'Fare', 'Cabin', 'Embarked'],\n",
      "      dtype='object')\n"
     ]
    }
   ],
   "source": [
    "df_train = pd.read_csv('../titanic_dir/titanic_data/train.csv')\n",
    "df_test = pd.read_csv('../titanic_dir/titanic_data/test.csv')\n",
    "df_all = pd.concat([df_train, df_test])\n",
    "df_all.reset_index(drop=True,inplace=True)\n",
    "\n",
    "print('df_all'+'*'*20)\n",
    "print(df_all.columns)\n",
    "\n",
    "# print('df_train'+'*'*20)\n",
    "# print(df_train.columns)\n",
    "\n",
    "# print('df_test'+'*'*20)\n",
    "# print(df_test.columns)"
   ]
  },
  {
   "cell_type": "code",
   "execution_count": 198,
   "id": "595cb4d6",
   "metadata": {
    "ExecuteTime": {
     "end_time": "2021-09-17T07:55:09.277693Z",
     "start_time": "2021-09-17T07:55:09.252626Z"
    }
   },
   "outputs": [
    {
     "data": {
      "text/html": [
       "<div>\n",
       "<style scoped>\n",
       "    .dataframe tbody tr th:only-of-type {\n",
       "        vertical-align: middle;\n",
       "    }\n",
       "\n",
       "    .dataframe tbody tr th {\n",
       "        vertical-align: top;\n",
       "    }\n",
       "\n",
       "    .dataframe thead th {\n",
       "        text-align: right;\n",
       "    }\n",
       "</style>\n",
       "<table border=\"1\" class=\"dataframe\">\n",
       "  <thead>\n",
       "    <tr style=\"text-align: right;\">\n",
       "      <th></th>\n",
       "      <th>PassengerId</th>\n",
       "      <th>Survived</th>\n",
       "      <th>Pclass</th>\n",
       "      <th>Name</th>\n",
       "      <th>Sex</th>\n",
       "      <th>Age</th>\n",
       "      <th>SibSp</th>\n",
       "      <th>Parch</th>\n",
       "      <th>Ticket</th>\n",
       "      <th>Fare</th>\n",
       "      <th>Cabin</th>\n",
       "      <th>Embarked</th>\n",
       "    </tr>\n",
       "  </thead>\n",
       "  <tbody>\n",
       "    <tr>\n",
       "      <th>0</th>\n",
       "      <td>1</td>\n",
       "      <td>0.0</td>\n",
       "      <td>3</td>\n",
       "      <td>Braund, Mr. Owen Harris</td>\n",
       "      <td>male</td>\n",
       "      <td>22.0</td>\n",
       "      <td>1</td>\n",
       "      <td>0</td>\n",
       "      <td>A/5 21171</td>\n",
       "      <td>7.2500</td>\n",
       "      <td>NaN</td>\n",
       "      <td>S</td>\n",
       "    </tr>\n",
       "    <tr>\n",
       "      <th>1</th>\n",
       "      <td>2</td>\n",
       "      <td>1.0</td>\n",
       "      <td>1</td>\n",
       "      <td>Cumings, Mrs. John Bradley (Florence Briggs Th...</td>\n",
       "      <td>female</td>\n",
       "      <td>38.0</td>\n",
       "      <td>1</td>\n",
       "      <td>0</td>\n",
       "      <td>PC 17599</td>\n",
       "      <td>71.2833</td>\n",
       "      <td>C85</td>\n",
       "      <td>C</td>\n",
       "    </tr>\n",
       "    <tr>\n",
       "      <th>2</th>\n",
       "      <td>3</td>\n",
       "      <td>1.0</td>\n",
       "      <td>3</td>\n",
       "      <td>Heikkinen, Miss. Laina</td>\n",
       "      <td>female</td>\n",
       "      <td>26.0</td>\n",
       "      <td>0</td>\n",
       "      <td>0</td>\n",
       "      <td>STON/O2. 3101282</td>\n",
       "      <td>7.9250</td>\n",
       "      <td>NaN</td>\n",
       "      <td>S</td>\n",
       "    </tr>\n",
       "    <tr>\n",
       "      <th>3</th>\n",
       "      <td>4</td>\n",
       "      <td>1.0</td>\n",
       "      <td>1</td>\n",
       "      <td>Futrelle, Mrs. Jacques Heath (Lily May Peel)</td>\n",
       "      <td>female</td>\n",
       "      <td>35.0</td>\n",
       "      <td>1</td>\n",
       "      <td>0</td>\n",
       "      <td>113803</td>\n",
       "      <td>53.1000</td>\n",
       "      <td>C123</td>\n",
       "      <td>S</td>\n",
       "    </tr>\n",
       "    <tr>\n",
       "      <th>4</th>\n",
       "      <td>5</td>\n",
       "      <td>0.0</td>\n",
       "      <td>3</td>\n",
       "      <td>Allen, Mr. William Henry</td>\n",
       "      <td>male</td>\n",
       "      <td>35.0</td>\n",
       "      <td>0</td>\n",
       "      <td>0</td>\n",
       "      <td>373450</td>\n",
       "      <td>8.0500</td>\n",
       "      <td>NaN</td>\n",
       "      <td>S</td>\n",
       "    </tr>\n",
       "    <tr>\n",
       "      <th>...</th>\n",
       "      <td>...</td>\n",
       "      <td>...</td>\n",
       "      <td>...</td>\n",
       "      <td>...</td>\n",
       "      <td>...</td>\n",
       "      <td>...</td>\n",
       "      <td>...</td>\n",
       "      <td>...</td>\n",
       "      <td>...</td>\n",
       "      <td>...</td>\n",
       "      <td>...</td>\n",
       "      <td>...</td>\n",
       "    </tr>\n",
       "    <tr>\n",
       "      <th>1304</th>\n",
       "      <td>1305</td>\n",
       "      <td>NaN</td>\n",
       "      <td>3</td>\n",
       "      <td>Spector, Mr. Woolf</td>\n",
       "      <td>male</td>\n",
       "      <td>NaN</td>\n",
       "      <td>0</td>\n",
       "      <td>0</td>\n",
       "      <td>A.5. 3236</td>\n",
       "      <td>8.0500</td>\n",
       "      <td>NaN</td>\n",
       "      <td>S</td>\n",
       "    </tr>\n",
       "    <tr>\n",
       "      <th>1305</th>\n",
       "      <td>1306</td>\n",
       "      <td>NaN</td>\n",
       "      <td>1</td>\n",
       "      <td>Oliva y Ocana, Dona. Fermina</td>\n",
       "      <td>female</td>\n",
       "      <td>39.0</td>\n",
       "      <td>0</td>\n",
       "      <td>0</td>\n",
       "      <td>PC 17758</td>\n",
       "      <td>108.9000</td>\n",
       "      <td>C105</td>\n",
       "      <td>C</td>\n",
       "    </tr>\n",
       "    <tr>\n",
       "      <th>1306</th>\n",
       "      <td>1307</td>\n",
       "      <td>NaN</td>\n",
       "      <td>3</td>\n",
       "      <td>Saether, Mr. Simon Sivertsen</td>\n",
       "      <td>male</td>\n",
       "      <td>38.5</td>\n",
       "      <td>0</td>\n",
       "      <td>0</td>\n",
       "      <td>SOTON/O.Q. 3101262</td>\n",
       "      <td>7.2500</td>\n",
       "      <td>NaN</td>\n",
       "      <td>S</td>\n",
       "    </tr>\n",
       "    <tr>\n",
       "      <th>1307</th>\n",
       "      <td>1308</td>\n",
       "      <td>NaN</td>\n",
       "      <td>3</td>\n",
       "      <td>Ware, Mr. Frederick</td>\n",
       "      <td>male</td>\n",
       "      <td>NaN</td>\n",
       "      <td>0</td>\n",
       "      <td>0</td>\n",
       "      <td>359309</td>\n",
       "      <td>8.0500</td>\n",
       "      <td>NaN</td>\n",
       "      <td>S</td>\n",
       "    </tr>\n",
       "    <tr>\n",
       "      <th>1308</th>\n",
       "      <td>1309</td>\n",
       "      <td>NaN</td>\n",
       "      <td>3</td>\n",
       "      <td>Peter, Master. Michael J</td>\n",
       "      <td>male</td>\n",
       "      <td>NaN</td>\n",
       "      <td>1</td>\n",
       "      <td>1</td>\n",
       "      <td>2668</td>\n",
       "      <td>22.3583</td>\n",
       "      <td>NaN</td>\n",
       "      <td>C</td>\n",
       "    </tr>\n",
       "  </tbody>\n",
       "</table>\n",
       "<p>1309 rows × 12 columns</p>\n",
       "</div>"
      ],
      "text/plain": [
       "      PassengerId  Survived  Pclass  \\\n",
       "0               1       0.0       3   \n",
       "1               2       1.0       1   \n",
       "2               3       1.0       3   \n",
       "3               4       1.0       1   \n",
       "4               5       0.0       3   \n",
       "...           ...       ...     ...   \n",
       "1304         1305       NaN       3   \n",
       "1305         1306       NaN       1   \n",
       "1306         1307       NaN       3   \n",
       "1307         1308       NaN       3   \n",
       "1308         1309       NaN       3   \n",
       "\n",
       "                                                   Name     Sex   Age  SibSp  \\\n",
       "0                               Braund, Mr. Owen Harris    male  22.0      1   \n",
       "1     Cumings, Mrs. John Bradley (Florence Briggs Th...  female  38.0      1   \n",
       "2                                Heikkinen, Miss. Laina  female  26.0      0   \n",
       "3          Futrelle, Mrs. Jacques Heath (Lily May Peel)  female  35.0      1   \n",
       "4                              Allen, Mr. William Henry    male  35.0      0   \n",
       "...                                                 ...     ...   ...    ...   \n",
       "1304                                 Spector, Mr. Woolf    male   NaN      0   \n",
       "1305                       Oliva y Ocana, Dona. Fermina  female  39.0      0   \n",
       "1306                       Saether, Mr. Simon Sivertsen    male  38.5      0   \n",
       "1307                                Ware, Mr. Frederick    male   NaN      0   \n",
       "1308                           Peter, Master. Michael J    male   NaN      1   \n",
       "\n",
       "      Parch              Ticket      Fare Cabin Embarked  \n",
       "0         0           A/5 21171    7.2500   NaN        S  \n",
       "1         0            PC 17599   71.2833   C85        C  \n",
       "2         0    STON/O2. 3101282    7.9250   NaN        S  \n",
       "3         0              113803   53.1000  C123        S  \n",
       "4         0              373450    8.0500   NaN        S  \n",
       "...     ...                 ...       ...   ...      ...  \n",
       "1304      0           A.5. 3236    8.0500   NaN        S  \n",
       "1305      0            PC 17758  108.9000  C105        C  \n",
       "1306      0  SOTON/O.Q. 3101262    7.2500   NaN        S  \n",
       "1307      0              359309    8.0500   NaN        S  \n",
       "1308      1                2668   22.3583   NaN        C  \n",
       "\n",
       "[1309 rows x 12 columns]"
      ]
     },
     "execution_count": 198,
     "metadata": {},
     "output_type": "execute_result"
    }
   ],
   "source": [
    "df_all"
   ]
  },
  {
   "cell_type": "code",
   "execution_count": 199,
   "id": "8a282994",
   "metadata": {
    "ExecuteTime": {
     "end_time": "2021-09-17T07:55:09.296741Z",
     "start_time": "2021-09-17T07:55:09.280701Z"
    }
   },
   "outputs": [
    {
     "name": "stdout",
     "output_type": "stream",
     "text": [
      "<class 'pandas.core.frame.DataFrame'>\n",
      "RangeIndex: 1309 entries, 0 to 1308\n",
      "Data columns (total 12 columns):\n",
      " #   Column       Non-Null Count  Dtype  \n",
      "---  ------       --------------  -----  \n",
      " 0   PassengerId  1309 non-null   int64  \n",
      " 1   Survived     891 non-null    float64\n",
      " 2   Pclass       1309 non-null   int64  \n",
      " 3   Name         1309 non-null   object \n",
      " 4   Sex          1309 non-null   object \n",
      " 5   Age          1046 non-null   float64\n",
      " 6   SibSp        1309 non-null   int64  \n",
      " 7   Parch        1309 non-null   int64  \n",
      " 8   Ticket       1309 non-null   object \n",
      " 9   Fare         1308 non-null   float64\n",
      " 10  Cabin        295 non-null    object \n",
      " 11  Embarked     1307 non-null   object \n",
      "dtypes: float64(3), int64(4), object(5)\n",
      "memory usage: 122.8+ KB\n"
     ]
    }
   ],
   "source": [
    "df_all.info()"
   ]
  },
  {
   "cell_type": "markdown",
   "id": "f7a9feeb",
   "metadata": {},
   "source": [
    "**Age，Cabin数据缺失率较大;<br />\n",
    "Embarked，Fare 缺失率很小**"
   ]
  },
  {
   "cell_type": "markdown",
   "id": "0039be36",
   "metadata": {},
   "source": [
    "# feature相关性关系"
   ]
  },
  {
   "attachments": {
    "image.png": {
     "image/png": "[encoded data removed]"
    }
   },
   "cell_type": "markdown",
   "id": "180010e6",
   "metadata": {},
   "source": [
    "![image.png](attachment:image.png)"
   ]
  },
  {
   "cell_type": "code",
   "execution_count": 200,
   "id": "ebf6686f",
   "metadata": {
    "ExecuteTime": {
     "end_time": "2021-09-17T07:55:09.317799Z",
     "start_time": "2021-09-17T07:55:09.298746Z"
    }
   },
   "outputs": [
    {
     "data": {
      "text/html": [
       "<div>\n",
       "<style scoped>\n",
       "    .dataframe tbody tr th:only-of-type {\n",
       "        vertical-align: middle;\n",
       "    }\n",
       "\n",
       "    .dataframe tbody tr th {\n",
       "        vertical-align: top;\n",
       "    }\n",
       "\n",
       "    .dataframe thead th {\n",
       "        text-align: right;\n",
       "    }\n",
       "</style>\n",
       "<table border=\"1\" class=\"dataframe\">\n",
       "  <thead>\n",
       "    <tr style=\"text-align: right;\">\n",
       "      <th></th>\n",
       "      <th>PassengerId</th>\n",
       "      <th>Survived</th>\n",
       "      <th>Pclass</th>\n",
       "      <th>Age</th>\n",
       "      <th>SibSp</th>\n",
       "      <th>Parch</th>\n",
       "      <th>Fare</th>\n",
       "    </tr>\n",
       "  </thead>\n",
       "  <tbody>\n",
       "    <tr>\n",
       "      <th>PassengerId</th>\n",
       "      <td>1.000000</td>\n",
       "      <td>-0.005007</td>\n",
       "      <td>-0.038354</td>\n",
       "      <td>0.028814</td>\n",
       "      <td>-0.055224</td>\n",
       "      <td>0.008942</td>\n",
       "      <td>0.031428</td>\n",
       "    </tr>\n",
       "    <tr>\n",
       "      <th>Survived</th>\n",
       "      <td>-0.005007</td>\n",
       "      <td>1.000000</td>\n",
       "      <td>-0.338481</td>\n",
       "      <td>-0.077221</td>\n",
       "      <td>-0.035322</td>\n",
       "      <td>0.081629</td>\n",
       "      <td>0.257307</td>\n",
       "    </tr>\n",
       "    <tr>\n",
       "      <th>Pclass</th>\n",
       "      <td>-0.038354</td>\n",
       "      <td>-0.338481</td>\n",
       "      <td>1.000000</td>\n",
       "      <td>-0.408106</td>\n",
       "      <td>0.060832</td>\n",
       "      <td>0.018322</td>\n",
       "      <td>-0.558629</td>\n",
       "    </tr>\n",
       "    <tr>\n",
       "      <th>Age</th>\n",
       "      <td>0.028814</td>\n",
       "      <td>-0.077221</td>\n",
       "      <td>-0.408106</td>\n",
       "      <td>1.000000</td>\n",
       "      <td>-0.243699</td>\n",
       "      <td>-0.150917</td>\n",
       "      <td>0.178740</td>\n",
       "    </tr>\n",
       "    <tr>\n",
       "      <th>SibSp</th>\n",
       "      <td>-0.055224</td>\n",
       "      <td>-0.035322</td>\n",
       "      <td>0.060832</td>\n",
       "      <td>-0.243699</td>\n",
       "      <td>1.000000</td>\n",
       "      <td>0.373587</td>\n",
       "      <td>0.160238</td>\n",
       "    </tr>\n",
       "    <tr>\n",
       "      <th>Parch</th>\n",
       "      <td>0.008942</td>\n",
       "      <td>0.081629</td>\n",
       "      <td>0.018322</td>\n",
       "      <td>-0.150917</td>\n",
       "      <td>0.373587</td>\n",
       "      <td>1.000000</td>\n",
       "      <td>0.221539</td>\n",
       "    </tr>\n",
       "    <tr>\n",
       "      <th>Fare</th>\n",
       "      <td>0.031428</td>\n",
       "      <td>0.257307</td>\n",
       "      <td>-0.558629</td>\n",
       "      <td>0.178740</td>\n",
       "      <td>0.160238</td>\n",
       "      <td>0.221539</td>\n",
       "      <td>1.000000</td>\n",
       "    </tr>\n",
       "  </tbody>\n",
       "</table>\n",
       "</div>"
      ],
      "text/plain": [
       "             PassengerId  Survived    Pclass       Age     SibSp     Parch  \\\n",
       "PassengerId     1.000000 -0.005007 -0.038354  0.028814 -0.055224  0.008942   \n",
       "Survived       -0.005007  1.000000 -0.338481 -0.077221 -0.035322  0.081629   \n",
       "Pclass         -0.038354 -0.338481  1.000000 -0.408106  0.060832  0.018322   \n",
       "Age             0.028814 -0.077221 -0.408106  1.000000 -0.243699 -0.150917   \n",
       "SibSp          -0.055224 -0.035322  0.060832 -0.243699  1.000000  0.373587   \n",
       "Parch           0.008942  0.081629  0.018322 -0.150917  0.373587  1.000000   \n",
       "Fare            0.031428  0.257307 -0.558629  0.178740  0.160238  0.221539   \n",
       "\n",
       "                 Fare  \n",
       "PassengerId  0.031428  \n",
       "Survived     0.257307  \n",
       "Pclass      -0.558629  \n",
       "Age          0.178740  \n",
       "SibSp        0.160238  \n",
       "Parch        0.221539  \n",
       "Fare         1.000000  "
      ]
     },
     "execution_count": 200,
     "metadata": {},
     "output_type": "execute_result"
    }
   ],
   "source": [
    "df_all.corr('pearson')"
   ]
  },
  {
   "cell_type": "markdown",
   "id": "07fec8f7",
   "metadata": {},
   "source": [
    "# 数据填充"
   ]
  },
  {
   "cell_type": "code",
   "execution_count": 201,
   "id": "a45c17b3",
   "metadata": {
    "ExecuteTime": {
     "end_time": "2021-09-17T07:55:09.355899Z",
     "start_time": "2021-09-17T07:55:09.319802Z"
    }
   },
   "outputs": [
    {
     "data": {
      "text/html": [
       "<div>\n",
       "<style scoped>\n",
       "    .dataframe tbody tr th:only-of-type {\n",
       "        vertical-align: middle;\n",
       "    }\n",
       "\n",
       "    .dataframe tbody tr th {\n",
       "        vertical-align: top;\n",
       "    }\n",
       "\n",
       "    .dataframe thead th {\n",
       "        text-align: right;\n",
       "    }\n",
       "</style>\n",
       "<table border=\"1\" class=\"dataframe\">\n",
       "  <thead>\n",
       "    <tr style=\"text-align: right;\">\n",
       "      <th></th>\n",
       "      <th>PassengerId</th>\n",
       "      <th>Survived</th>\n",
       "      <th>Pclass</th>\n",
       "      <th>Name</th>\n",
       "      <th>Sex</th>\n",
       "      <th>Age</th>\n",
       "      <th>SibSp</th>\n",
       "      <th>Parch</th>\n",
       "      <th>Ticket</th>\n",
       "      <th>Fare</th>\n",
       "      <th>Cabin</th>\n",
       "      <th>Embarked</th>\n",
       "    </tr>\n",
       "  </thead>\n",
       "  <tbody>\n",
       "    <tr>\n",
       "      <th>0</th>\n",
       "      <td>1</td>\n",
       "      <td>0.0</td>\n",
       "      <td>3</td>\n",
       "      <td>Braund, Mr. Owen Harris</td>\n",
       "      <td>male</td>\n",
       "      <td>22.0</td>\n",
       "      <td>1</td>\n",
       "      <td>0</td>\n",
       "      <td>A/5 21171</td>\n",
       "      <td>7.2500</td>\n",
       "      <td>NaN</td>\n",
       "      <td>S</td>\n",
       "    </tr>\n",
       "    <tr>\n",
       "      <th>1</th>\n",
       "      <td>2</td>\n",
       "      <td>1.0</td>\n",
       "      <td>1</td>\n",
       "      <td>Cumings, Mrs. John Bradley (Florence Briggs Th...</td>\n",
       "      <td>female</td>\n",
       "      <td>38.0</td>\n",
       "      <td>1</td>\n",
       "      <td>0</td>\n",
       "      <td>PC 17599</td>\n",
       "      <td>71.2833</td>\n",
       "      <td>C85</td>\n",
       "      <td>C</td>\n",
       "    </tr>\n",
       "    <tr>\n",
       "      <th>2</th>\n",
       "      <td>3</td>\n",
       "      <td>1.0</td>\n",
       "      <td>3</td>\n",
       "      <td>Heikkinen, Miss. Laina</td>\n",
       "      <td>female</td>\n",
       "      <td>26.0</td>\n",
       "      <td>0</td>\n",
       "      <td>0</td>\n",
       "      <td>STON/O2. 3101282</td>\n",
       "      <td>7.9250</td>\n",
       "      <td>NaN</td>\n",
       "      <td>S</td>\n",
       "    </tr>\n",
       "    <tr>\n",
       "      <th>3</th>\n",
       "      <td>4</td>\n",
       "      <td>1.0</td>\n",
       "      <td>1</td>\n",
       "      <td>Futrelle, Mrs. Jacques Heath (Lily May Peel)</td>\n",
       "      <td>female</td>\n",
       "      <td>35.0</td>\n",
       "      <td>1</td>\n",
       "      <td>0</td>\n",
       "      <td>113803</td>\n",
       "      <td>53.1000</td>\n",
       "      <td>C123</td>\n",
       "      <td>S</td>\n",
       "    </tr>\n",
       "    <tr>\n",
       "      <th>4</th>\n",
       "      <td>5</td>\n",
       "      <td>0.0</td>\n",
       "      <td>3</td>\n",
       "      <td>Allen, Mr. William Henry</td>\n",
       "      <td>male</td>\n",
       "      <td>35.0</td>\n",
       "      <td>0</td>\n",
       "      <td>0</td>\n",
       "      <td>373450</td>\n",
       "      <td>8.0500</td>\n",
       "      <td>NaN</td>\n",
       "      <td>S</td>\n",
       "    </tr>\n",
       "    <tr>\n",
       "      <th>...</th>\n",
       "      <td>...</td>\n",
       "      <td>...</td>\n",
       "      <td>...</td>\n",
       "      <td>...</td>\n",
       "      <td>...</td>\n",
       "      <td>...</td>\n",
       "      <td>...</td>\n",
       "      <td>...</td>\n",
       "      <td>...</td>\n",
       "      <td>...</td>\n",
       "      <td>...</td>\n",
       "      <td>...</td>\n",
       "    </tr>\n",
       "    <tr>\n",
       "      <th>1304</th>\n",
       "      <td>1305</td>\n",
       "      <td>NaN</td>\n",
       "      <td>3</td>\n",
       "      <td>Spector, Mr. Woolf</td>\n",
       "      <td>male</td>\n",
       "      <td>NaN</td>\n",
       "      <td>0</td>\n",
       "      <td>0</td>\n",
       "      <td>A.5. 3236</td>\n",
       "      <td>8.0500</td>\n",
       "      <td>NaN</td>\n",
       "      <td>S</td>\n",
       "    </tr>\n",
       "    <tr>\n",
       "      <th>1305</th>\n",
       "      <td>1306</td>\n",
       "      <td>NaN</td>\n",
       "      <td>1</td>\n",
       "      <td>Oliva y Ocana, Dona. Fermina</td>\n",
       "      <td>female</td>\n",
       "      <td>39.0</td>\n",
       "      <td>0</td>\n",
       "      <td>0</td>\n",
       "      <td>PC 17758</td>\n",
       "      <td>108.9000</td>\n",
       "      <td>C105</td>\n",
       "      <td>C</td>\n",
       "    </tr>\n",
       "    <tr>\n",
       "      <th>1306</th>\n",
       "      <td>1307</td>\n",
       "      <td>NaN</td>\n",
       "      <td>3</td>\n",
       "      <td>Saether, Mr. Simon Sivertsen</td>\n",
       "      <td>male</td>\n",
       "      <td>38.5</td>\n",
       "      <td>0</td>\n",
       "      <td>0</td>\n",
       "      <td>SOTON/O.Q. 3101262</td>\n",
       "      <td>7.2500</td>\n",
       "      <td>NaN</td>\n",
       "      <td>S</td>\n",
       "    </tr>\n",
       "    <tr>\n",
       "      <th>1307</th>\n",
       "      <td>1308</td>\n",
       "      <td>NaN</td>\n",
       "      <td>3</td>\n",
       "      <td>Ware, Mr. Frederick</td>\n",
       "      <td>male</td>\n",
       "      <td>NaN</td>\n",
       "      <td>0</td>\n",
       "      <td>0</td>\n",
       "      <td>359309</td>\n",
       "      <td>8.0500</td>\n",
       "      <td>NaN</td>\n",
       "      <td>S</td>\n",
       "    </tr>\n",
       "    <tr>\n",
       "      <th>1308</th>\n",
       "      <td>1309</td>\n",
       "      <td>NaN</td>\n",
       "      <td>3</td>\n",
       "      <td>Peter, Master. Michael J</td>\n",
       "      <td>male</td>\n",
       "      <td>NaN</td>\n",
       "      <td>1</td>\n",
       "      <td>1</td>\n",
       "      <td>2668</td>\n",
       "      <td>22.3583</td>\n",
       "      <td>NaN</td>\n",
       "      <td>C</td>\n",
       "    </tr>\n",
       "  </tbody>\n",
       "</table>\n",
       "<p>1309 rows × 12 columns</p>\n",
       "</div>"
      ],
      "text/plain": [
       "      PassengerId  Survived  Pclass  \\\n",
       "0               1       0.0       3   \n",
       "1               2       1.0       1   \n",
       "2               3       1.0       3   \n",
       "3               4       1.0       1   \n",
       "4               5       0.0       3   \n",
       "...           ...       ...     ...   \n",
       "1304         1305       NaN       3   \n",
       "1305         1306       NaN       1   \n",
       "1306         1307       NaN       3   \n",
       "1307         1308       NaN       3   \n",
       "1308         1309       NaN       3   \n",
       "\n",
       "                                                   Name     Sex   Age  SibSp  \\\n",
       "0                               Braund, Mr. Owen Harris    male  22.0      1   \n",
       "1     Cumings, Mrs. John Bradley (Florence Briggs Th...  female  38.0      1   \n",
       "2                                Heikkinen, Miss. Laina  female  26.0      0   \n",
       "3          Futrelle, Mrs. Jacques Heath (Lily May Peel)  female  35.0      1   \n",
       "4                              Allen, Mr. William Henry    male  35.0      0   \n",
       "...                                                 ...     ...   ...    ...   \n",
       "1304                                 Spector, Mr. Woolf    male   NaN      0   \n",
       "1305                       Oliva y Ocana, Dona. Fermina  female  39.0      0   \n",
       "1306                       Saether, Mr. Simon Sivertsen    male  38.5      0   \n",
       "1307                                Ware, Mr. Frederick    male   NaN      0   \n",
       "1308                           Peter, Master. Michael J    male   NaN      1   \n",
       "\n",
       "      Parch              Ticket      Fare Cabin Embarked  \n",
       "0         0           A/5 21171    7.2500   NaN        S  \n",
       "1         0            PC 17599   71.2833   C85        C  \n",
       "2         0    STON/O2. 3101282    7.9250   NaN        S  \n",
       "3         0              113803   53.1000  C123        S  \n",
       "4         0              373450    8.0500   NaN        S  \n",
       "...     ...                 ...       ...   ...      ...  \n",
       "1304      0           A.5. 3236    8.0500   NaN        S  \n",
       "1305      0            PC 17758  108.9000  C105        C  \n",
       "1306      0  SOTON/O.Q. 3101262    7.2500   NaN        S  \n",
       "1307      0              359309    8.0500   NaN        S  \n",
       "1308      1                2668   22.3583   NaN        C  \n",
       "\n",
       "[1309 rows x 12 columns]"
      ]
     },
     "execution_count": 201,
     "metadata": {},
     "output_type": "execute_result"
    }
   ],
   "source": [
    "df_all"
   ]
  },
  {
   "cell_type": "markdown",
   "id": "dccc409c",
   "metadata": {
    "ExecuteTime": {
     "end_time": "2021-09-06T08:04:21.854638Z",
     "start_time": "2021-09-06T08:04:21.834396Z"
    }
   },
   "source": [
    "## Fare"
   ]
  },
  {
   "cell_type": "code",
   "execution_count": 202,
   "id": "e7ca3d84",
   "metadata": {
    "ExecuteTime": {
     "end_time": "2021-09-17T07:55:09.377958Z",
     "start_time": "2021-09-17T07:55:09.357904Z"
    }
   },
   "outputs": [
    {
     "data": {
      "text/html": [
       "<div>\n",
       "<style scoped>\n",
       "    .dataframe tbody tr th:only-of-type {\n",
       "        vertical-align: middle;\n",
       "    }\n",
       "\n",
       "    .dataframe tbody tr th {\n",
       "        vertical-align: top;\n",
       "    }\n",
       "\n",
       "    .dataframe thead th {\n",
       "        text-align: right;\n",
       "    }\n",
       "</style>\n",
       "<table border=\"1\" class=\"dataframe\">\n",
       "  <thead>\n",
       "    <tr style=\"text-align: right;\">\n",
       "      <th></th>\n",
       "      <th>PassengerId</th>\n",
       "      <th>Survived</th>\n",
       "      <th>Pclass</th>\n",
       "      <th>Name</th>\n",
       "      <th>Sex</th>\n",
       "      <th>Age</th>\n",
       "      <th>SibSp</th>\n",
       "      <th>Parch</th>\n",
       "      <th>Ticket</th>\n",
       "      <th>Fare</th>\n",
       "      <th>Cabin</th>\n",
       "      <th>Embarked</th>\n",
       "    </tr>\n",
       "  </thead>\n",
       "  <tbody>\n",
       "    <tr>\n",
       "      <th>1043</th>\n",
       "      <td>1044</td>\n",
       "      <td>NaN</td>\n",
       "      <td>3</td>\n",
       "      <td>Storey, Mr. Thomas</td>\n",
       "      <td>male</td>\n",
       "      <td>60.5</td>\n",
       "      <td>0</td>\n",
       "      <td>0</td>\n",
       "      <td>3701</td>\n",
       "      <td>NaN</td>\n",
       "      <td>NaN</td>\n",
       "      <td>S</td>\n",
       "    </tr>\n",
       "  </tbody>\n",
       "</table>\n",
       "</div>"
      ],
      "text/plain": [
       "      PassengerId  Survived  Pclass                Name   Sex   Age  SibSp  \\\n",
       "1043         1044       NaN       3  Storey, Mr. Thomas  male  60.5      0   \n",
       "\n",
       "      Parch Ticket  Fare Cabin Embarked  \n",
       "1043      0   3701   NaN   NaN        S  "
      ]
     },
     "execution_count": 202,
     "metadata": {},
     "output_type": "execute_result"
    }
   ],
   "source": [
    "df_all[df_all['Fare'].isnull()]"
   ]
  },
  {
   "attachments": {
    "image.png": {
     "image/png": "[encoded data removed]"
    }
   },
   "cell_type": "markdown",
   "id": "8547d222",
   "metadata": {},
   "source": [
    "![image.png](attachment:image.png)"
   ]
  },
  {
   "cell_type": "markdown",
   "id": "d3de106e",
   "metadata": {},
   "source": [
    "**Fare只缺失一个数据，而且是来自于test-验证数据，所以Survived为空，Age,SibSp,Parch三个属性和Fare相关性大于0.1，而且这行数据这三个值都不为空，但是这里的Age是连续值，不好分组，考虑到这里只有一条数据缺失,所以就舍弃Age,因为一般都会考虑到性别，所以最后也把Sex加上，所以这里用SibSp,Parch，Sex这三个属性-groupby分组之后的中位数填充**"
   ]
  },
  {
   "cell_type": "code",
   "execution_count": 203,
   "id": "4d29b82d",
   "metadata": {
    "ExecuteTime": {
     "end_time": "2021-09-17T07:55:09.396005Z",
     "start_time": "2021-09-17T07:55:09.380966Z"
    }
   },
   "outputs": [
    {
     "data": {
      "text/plain": [
       "Parch  SibSp  Sex   \n",
       "0      0      female     10.50000\n",
       "              male        8.05000\n",
       "       1      female     26.00000\n",
       "              male       26.00000\n",
       "       2      female     23.25000\n",
       "              male       23.25000\n",
       "       3      female     18.42500\n",
       "              male       18.00000\n",
       "1      0      female     39.40000\n",
       "              male       33.00000\n",
       "       1      female     26.00000\n",
       "              male       23.00000\n",
       "       2      female     23.00000\n",
       "              male       25.25000\n",
       "       3      female     25.46670\n",
       "              male       21.55000\n",
       "       4      male       34.40625\n",
       "2      0      female     22.35830\n",
       "              male       30.75000\n",
       "       1      female     41.57920\n",
       "              male       41.57920\n",
       "       2      female    148.37500\n",
       "              male      148.37500\n",
       "       3      female    263.00000\n",
       "              male       27.90000\n",
       "       4      female     31.27500\n",
       "              male       31.38750\n",
       "       5      female     46.90000\n",
       "              male       46.90000\n",
       "       8      female     69.55000\n",
       "              male       69.55000\n",
       "3      0      female     29.12915\n",
       "       1      female     34.37500\n",
       "              male      148.37500\n",
       "       2      female     18.75000\n",
       "4      0      female     23.27085\n",
       "       1      female    145.45000\n",
       "              male      145.45000\n",
       "5      0      female     34.40625\n",
       "       1      female     31.33125\n",
       "              male       31.33125\n",
       "6      1      female     46.90000\n",
       "              male       46.90000\n",
       "9      1      female     69.55000\n",
       "              male       69.55000\n",
       "Name: Fare, dtype: float64"
      ]
     },
     "execution_count": 203,
     "metadata": {},
     "output_type": "execute_result"
    }
   ],
   "source": [
    "df_all.groupby(['Parch', 'SibSp','Sex'])['Fare'].median()\n",
    "# df_all.groupby(['Parch', 'Age', 'SibSp','Sex'])['Fare'].median().to_clipboard()"
   ]
  },
  {
   "cell_type": "raw",
   "id": "b3259c42",
   "metadata": {},
   "source": [
    "Parch : 0 ,SibSp : 0 ,Sex : male   对应的值为 ：  8.05000"
   ]
  },
  {
   "cell_type": "code",
   "execution_count": 204,
   "id": "8156ee57",
   "metadata": {
    "ExecuteTime": {
     "end_time": "2021-09-17T07:55:09.407034Z",
     "start_time": "2021-09-17T07:55:09.402022Z"
    }
   },
   "outputs": [],
   "source": [
    "df_all['Fare'] = df_all['Fare'].fillna(8.05000)"
   ]
  },
  {
   "cell_type": "code",
   "execution_count": 205,
   "id": "7e0833a2",
   "metadata": {
    "ExecuteTime": {
     "end_time": "2021-09-17T07:55:09.428090Z",
     "start_time": "2021-09-17T07:55:09.411045Z"
    }
   },
   "outputs": [
    {
     "data": {
      "text/html": [
       "<div>\n",
       "<style scoped>\n",
       "    .dataframe tbody tr th:only-of-type {\n",
       "        vertical-align: middle;\n",
       "    }\n",
       "\n",
       "    .dataframe tbody tr th {\n",
       "        vertical-align: top;\n",
       "    }\n",
       "\n",
       "    .dataframe thead th {\n",
       "        text-align: right;\n",
       "    }\n",
       "</style>\n",
       "<table border=\"1\" class=\"dataframe\">\n",
       "  <thead>\n",
       "    <tr style=\"text-align: right;\">\n",
       "      <th></th>\n",
       "      <th>PassengerId</th>\n",
       "      <th>Survived</th>\n",
       "      <th>Pclass</th>\n",
       "      <th>Name</th>\n",
       "      <th>Sex</th>\n",
       "      <th>Age</th>\n",
       "      <th>SibSp</th>\n",
       "      <th>Parch</th>\n",
       "      <th>Ticket</th>\n",
       "      <th>Fare</th>\n",
       "      <th>Cabin</th>\n",
       "      <th>Embarked</th>\n",
       "    </tr>\n",
       "  </thead>\n",
       "  <tbody>\n",
       "  </tbody>\n",
       "</table>\n",
       "</div>"
      ],
      "text/plain": [
       "Empty DataFrame\n",
       "Columns: [PassengerId, Survived, Pclass, Name, Sex, Age, SibSp, Parch, Ticket, Fare, Cabin, Embarked]\n",
       "Index: []"
      ]
     },
     "execution_count": 205,
     "metadata": {},
     "output_type": "execute_result"
    }
   ],
   "source": [
    "df_all[df_all['Fare'].isnull()]"
   ]
  },
  {
   "cell_type": "markdown",
   "id": "b0556eca",
   "metadata": {},
   "source": [
    "## Embarked"
   ]
  },
  {
   "cell_type": "code",
   "execution_count": 206,
   "id": "extensive-postage",
   "metadata": {
    "ExecuteTime": {
     "end_time": "2021-09-17T07:55:09.450150Z",
     "start_time": "2021-09-17T07:55:09.430095Z"
    }
   },
   "outputs": [
    {
     "data": {
      "text/html": [
       "<div>\n",
       "<style scoped>\n",
       "    .dataframe tbody tr th:only-of-type {\n",
       "        vertical-align: middle;\n",
       "    }\n",
       "\n",
       "    .dataframe tbody tr th {\n",
       "        vertical-align: top;\n",
       "    }\n",
       "\n",
       "    .dataframe thead th {\n",
       "        text-align: right;\n",
       "    }\n",
       "</style>\n",
       "<table border=\"1\" class=\"dataframe\">\n",
       "  <thead>\n",
       "    <tr style=\"text-align: right;\">\n",
       "      <th></th>\n",
       "      <th>PassengerId</th>\n",
       "      <th>Survived</th>\n",
       "      <th>Pclass</th>\n",
       "      <th>Name</th>\n",
       "      <th>Sex</th>\n",
       "      <th>Age</th>\n",
       "      <th>SibSp</th>\n",
       "      <th>Parch</th>\n",
       "      <th>Ticket</th>\n",
       "      <th>Fare</th>\n",
       "      <th>Cabin</th>\n",
       "      <th>Embarked</th>\n",
       "    </tr>\n",
       "  </thead>\n",
       "  <tbody>\n",
       "    <tr>\n",
       "      <th>61</th>\n",
       "      <td>62</td>\n",
       "      <td>1.0</td>\n",
       "      <td>1</td>\n",
       "      <td>Icard, Miss. Amelie</td>\n",
       "      <td>female</td>\n",
       "      <td>38.0</td>\n",
       "      <td>0</td>\n",
       "      <td>0</td>\n",
       "      <td>113572</td>\n",
       "      <td>80.0</td>\n",
       "      <td>B28</td>\n",
       "      <td>NaN</td>\n",
       "    </tr>\n",
       "    <tr>\n",
       "      <th>829</th>\n",
       "      <td>830</td>\n",
       "      <td>1.0</td>\n",
       "      <td>1</td>\n",
       "      <td>Stone, Mrs. George Nelson (Martha Evelyn)</td>\n",
       "      <td>female</td>\n",
       "      <td>62.0</td>\n",
       "      <td>0</td>\n",
       "      <td>0</td>\n",
       "      <td>113572</td>\n",
       "      <td>80.0</td>\n",
       "      <td>B28</td>\n",
       "      <td>NaN</td>\n",
       "    </tr>\n",
       "  </tbody>\n",
       "</table>\n",
       "</div>"
      ],
      "text/plain": [
       "     PassengerId  Survived  Pclass                                       Name  \\\n",
       "61            62       1.0       1                        Icard, Miss. Amelie   \n",
       "829          830       1.0       1  Stone, Mrs. George Nelson (Martha Evelyn)   \n",
       "\n",
       "        Sex   Age  SibSp  Parch  Ticket  Fare Cabin Embarked  \n",
       "61   female  38.0      0      0  113572  80.0   B28      NaN  \n",
       "829  female  62.0      0      0  113572  80.0   B28      NaN  "
      ]
     },
     "execution_count": 206,
     "metadata": {},
     "output_type": "execute_result"
    }
   ],
   "source": [
    "df_all[df_all['Embarked'].isnull()]"
   ]
  },
  {
   "cell_type": "code",
   "execution_count": 207,
   "id": "median-insulin",
   "metadata": {
    "ExecuteTime": {
     "end_time": "2021-09-17T07:55:09.472210Z",
     "start_time": "2021-09-17T07:55:09.452154Z"
    }
   },
   "outputs": [
    {
     "data": {
      "text/plain": [
       "Fare      Sex     Embarked\n",
       "0.0000    male    S           17\n",
       "3.1708    male    S            1\n",
       "4.0125    male    C            1\n",
       "5.0000    male    S            1\n",
       "6.2375    male    S            1\n",
       "                              ..\n",
       "262.3750  male    C            2\n",
       "263.0000  female  S            4\n",
       "          male    S            2\n",
       "512.3292  female  C            2\n",
       "          male    C            2\n",
       "Name: Embarked, Length: 447, dtype: int64"
      ]
     },
     "execution_count": 207,
     "metadata": {},
     "output_type": "execute_result"
    }
   ],
   "source": [
    "df_all.groupby(['Fare','Sex','Embarked'])['Embarked'].count()"
   ]
  },
  {
   "cell_type": "markdown",
   "id": "raised-turkey",
   "metadata": {},
   "source": [
    "**缺失的这两行，都为女性，费用是80**\n",
    "这里用对应的：\n",
    "票价在(78.051, 512.329]区间\n",
    "女性里，数量最多的<span class=\"burk\">C港口</span>填充"
   ]
  },
  {
   "cell_type": "code",
   "execution_count": 208,
   "id": "undefined-effects",
   "metadata": {
    "ExecuteTime": {
     "end_time": "2021-09-17T07:55:09.478223Z",
     "start_time": "2021-09-17T07:55:09.474214Z"
    }
   },
   "outputs": [],
   "source": [
    "# Filling the missing values in Embarked with S\n",
    "df_all['Embarked'] = df_all['Embarked'].fillna('C')"
   ]
  },
  {
   "cell_type": "code",
   "execution_count": 209,
   "id": "comparative-patient",
   "metadata": {
    "ExecuteTime": {
     "end_time": "2021-09-17T07:55:09.495270Z",
     "start_time": "2021-09-17T07:55:09.480229Z"
    }
   },
   "outputs": [
    {
     "data": {
      "text/html": [
       "<div>\n",
       "<style scoped>\n",
       "    .dataframe tbody tr th:only-of-type {\n",
       "        vertical-align: middle;\n",
       "    }\n",
       "\n",
       "    .dataframe tbody tr th {\n",
       "        vertical-align: top;\n",
       "    }\n",
       "\n",
       "    .dataframe thead th {\n",
       "        text-align: right;\n",
       "    }\n",
       "</style>\n",
       "<table border=\"1\" class=\"dataframe\">\n",
       "  <thead>\n",
       "    <tr style=\"text-align: right;\">\n",
       "      <th></th>\n",
       "      <th>PassengerId</th>\n",
       "      <th>Survived</th>\n",
       "      <th>Pclass</th>\n",
       "      <th>Name</th>\n",
       "      <th>Sex</th>\n",
       "      <th>Age</th>\n",
       "      <th>SibSp</th>\n",
       "      <th>Parch</th>\n",
       "      <th>Ticket</th>\n",
       "      <th>Fare</th>\n",
       "      <th>Cabin</th>\n",
       "      <th>Embarked</th>\n",
       "    </tr>\n",
       "  </thead>\n",
       "  <tbody>\n",
       "  </tbody>\n",
       "</table>\n",
       "</div>"
      ],
      "text/plain": [
       "Empty DataFrame\n",
       "Columns: [PassengerId, Survived, Pclass, Name, Sex, Age, SibSp, Parch, Ticket, Fare, Cabin, Embarked]\n",
       "Index: []"
      ]
     },
     "execution_count": 209,
     "metadata": {},
     "output_type": "execute_result"
    }
   ],
   "source": [
    "df_all[df_all['Embarked'].isnull()]"
   ]
  },
  {
   "cell_type": "markdown",
   "id": "9f0ad765",
   "metadata": {},
   "source": [
    "## Age"
   ]
  },
  {
   "cell_type": "code",
   "execution_count": 210,
   "id": "073cfd15",
   "metadata": {
    "ExecuteTime": {
     "end_time": "2021-09-17T07:55:09.509306Z",
     "start_time": "2021-09-17T07:55:09.497275Z"
    }
   },
   "outputs": [
    {
     "data": {
      "text/plain": [
       "False    1046\n",
       "True      263\n",
       "Name: Age, dtype: int64"
      ]
     },
     "execution_count": 210,
     "metadata": {},
     "output_type": "execute_result"
    }
   ],
   "source": [
    "df_all['Age'].isnull().value_counts()"
   ]
  },
  {
   "cell_type": "code",
   "execution_count": 211,
   "id": "polished-singing",
   "metadata": {
    "ExecuteTime": {
     "end_time": "2021-09-17T07:55:09.691792Z",
     "start_time": "2021-09-17T07:55:09.512316Z"
    }
   },
   "outputs": [
    {
     "data": {
      "text/plain": [
       "<AxesSubplot:>"
      ]
     },
     "execution_count": 211,
     "metadata": {},
     "output_type": "execute_result"
    },
    {
     "data": {
      "image/png": "[encoded data removed]",
      "text/plain": [
       "<Figure size 432x288 with 1 Axes>"
      ]
     },
     "metadata": {
      "needs_background": "light"
     },
     "output_type": "display_data"
    }
   ],
   "source": [
    "df_all['Age'].hist()"
   ]
  },
  {
   "cell_type": "code",
   "execution_count": 212,
   "id": "focal-conclusion",
   "metadata": {
    "ExecuteTime": {
     "end_time": "2021-09-17T07:55:09.713850Z",
     "start_time": "2021-09-17T07:55:09.693797Z"
    }
   },
   "outputs": [
    {
     "name": "stdout",
     "output_type": "stream",
     "text": [
      "Pclass ********************\n",
      "3    208\n",
      "1     39\n",
      "2     16\n",
      "Name: Pclass, dtype: int64\n",
      "Sex ********************\n",
      "male      185\n",
      "female     78\n",
      "Name: Sex, dtype: int64\n",
      "SibSp ********************\n",
      "0    206\n",
      "1     39\n",
      "8      8\n",
      "2      6\n",
      "3      4\n",
      "Name: SibSp, dtype: int64\n",
      "Parch ********************\n",
      "0    234\n",
      "2     16\n",
      "1     10\n",
      "9      2\n",
      "4      1\n",
      "Name: Parch, dtype: int64\n",
      "Embarked ********************\n",
      "S    132\n",
      "Q     73\n",
      "C     58\n",
      "Name: Embarked, dtype: int64\n"
     ]
    }
   ],
   "source": [
    "# 缺失的数据里面，每个属性的计数情况\n",
    "for feature in ['Pclass','Sex','SibSp','Parch','Embarked']:\n",
    "    print(feature,\"*\"*20)\n",
    "    print(df_all[df_all['Age'].isnull()][feature].value_counts())\n",
    " "
   ]
  },
  {
   "cell_type": "code",
   "execution_count": 213,
   "id": "celtic-brick",
   "metadata": {
    "ExecuteTime": {
     "end_time": "2021-09-17T07:55:09.726885Z",
     "start_time": "2021-09-17T07:55:09.715855Z"
    }
   },
   "outputs": [],
   "source": [
    "df_all['Age_cut'] = pd.cut(df_all['Age'],10)"
   ]
  },
  {
   "cell_type": "code",
   "execution_count": 214,
   "id": "essential-bennett",
   "metadata": {
    "ExecuteTime": {
     "end_time": "2021-09-17T07:55:11.376609Z",
     "start_time": "2021-09-17T07:55:09.728890Z"
    },
    "scrolled": false
   },
   "outputs": [
    {
     "data": {
      "image/png": "[encoded data removed]",
      "text/plain": [
       "<Figure size 720x3600 with 5 Axes>"
      ]
     },
     "metadata": {
      "needs_background": "light"
     },
     "output_type": "display_data"
    }
   ],
   "source": [
    "fig,axs = plt.subplots(nrows=5,ncols=1,figsize=(10,50))\n",
    "number = 0\n",
    "for feature in ['Pclass','Sex','SibSp','Parch','Embarked']:\n",
    "    sns.countplot(x=feature,hue='Age_cut',data=df_all,ax=axs[number])\n",
    "#     plt.show()\n",
    "    number = number + 1    "
   ]
  },
  {
   "cell_type": "markdown",
   "id": "f316496b",
   "metadata": {},
   "source": [
    "### 观察Age字段和Fare"
   ]
  },
  {
   "cell_type": "markdown",
   "id": "63a410a3",
   "metadata": {},
   "source": [
    "#### 看一下Fare 的数据分布情况"
   ]
  },
  {
   "cell_type": "code",
   "execution_count": 215,
   "id": "938431f4",
   "metadata": {
    "ExecuteTime": {
     "end_time": "2021-09-17T07:55:11.528456Z",
     "start_time": "2021-09-17T07:55:11.378617Z"
    }
   },
   "outputs": [
    {
     "data": {
      "image/png": "[encoded data removed]",
      "text/plain": [
       "<Figure size 1080x720 with 1 Axes>"
      ]
     },
     "metadata": {
      "needs_background": "light"
     },
     "output_type": "display_data"
    }
   ],
   "source": [
    "plt.figure(figsize=(15,10))\n",
    "plt.hist(df_all['Fare'])\n",
    "plt.show()"
   ]
  },
  {
   "cell_type": "markdown",
   "id": "7fa95b3f",
   "metadata": {
    "ExecuteTime": {
     "end_time": "2021-09-07T08:37:39.629905Z",
     "start_time": "2021-09-07T08:37:39.619899Z"
    }
   },
   "source": [
    "**大多数fare位于0-50区间**"
   ]
  },
  {
   "cell_type": "code",
   "execution_count": 216,
   "id": "5579f24a",
   "metadata": {
    "ExecuteTime": {
     "end_time": "2021-09-17T07:55:11.703922Z",
     "start_time": "2021-09-17T07:55:11.530464Z"
    }
   },
   "outputs": [
    {
     "data": {
      "text/plain": [
       "<AxesSubplot:>"
      ]
     },
     "execution_count": 216,
     "metadata": {},
     "output_type": "execute_result"
    },
    {
     "data": {
      "image/png": "[encoded data removed]",
      "text/plain": [
       "<Figure size 720x432 with 1 Axes>"
      ]
     },
     "metadata": {
      "needs_background": "light"
     },
     "output_type": "display_data"
    }
   ],
   "source": [
    "# 等量切分\n",
    "df_all['Fare_cut'] = pd.cut(df_all['Fare'],8)\n",
    "plt.figure(figsize=(10,6))\n",
    "df_all['Fare_cut'].value_counts().plot(kind='bar',rot=30)"
   ]
  },
  {
   "cell_type": "code",
   "execution_count": 217,
   "id": "substantial-republic",
   "metadata": {
    "ExecuteTime": {
     "end_time": "2021-09-17T07:55:12.180186Z",
     "start_time": "2021-09-17T07:55:11.705929Z"
    }
   },
   "outputs": [
    {
     "data": {
      "image/png": "[encoded data removed]",
      "text/plain": [
       "<Figure size 1080x720 with 1 Axes>"
      ]
     },
     "metadata": {
      "needs_background": "light"
     },
     "output_type": "display_data"
    }
   ],
   "source": [
    "plt.figure(figsize=(15,10))\n",
    "sns.countplot(x='Fare_cut',hue='Age_cut',data=df_all)\n",
    "plt.show()"
   ]
  },
  {
   "cell_type": "markdown",
   "id": "98791633",
   "metadata": {
    "ExecuteTime": {
     "end_time": "2021-09-07T08:54:07.605159Z",
     "start_time": "2021-09-07T08:54:07.421614Z"
    }
   },
   "source": [
    "**Fare等量切分成10个区间**"
   ]
  },
  {
   "cell_type": "code",
   "execution_count": 218,
   "id": "1c210980",
   "metadata": {
    "ExecuteTime": {
     "end_time": "2021-09-17T07:55:12.213242Z",
     "start_time": "2021-09-17T07:55:12.182160Z"
    }
   },
   "outputs": [
    {
     "data": {
      "text/html": [
       "<div>\n",
       "<style scoped>\n",
       "    .dataframe tbody tr th:only-of-type {\n",
       "        vertical-align: middle;\n",
       "    }\n",
       "\n",
       "    .dataframe tbody tr th {\n",
       "        vertical-align: top;\n",
       "    }\n",
       "\n",
       "    .dataframe thead th {\n",
       "        text-align: right;\n",
       "    }\n",
       "</style>\n",
       "<table border=\"1\" class=\"dataframe\">\n",
       "  <thead>\n",
       "    <tr style=\"text-align: right;\">\n",
       "      <th></th>\n",
       "      <th></th>\n",
       "      <th>Age</th>\n",
       "    </tr>\n",
       "    <tr>\n",
       "      <th>Fare_cut</th>\n",
       "      <th>Sex</th>\n",
       "      <th></th>\n",
       "    </tr>\n",
       "  </thead>\n",
       "  <tbody>\n",
       "    <tr>\n",
       "      <th rowspan=\"2\" valign=\"top\">(-0.512, 64.041]</th>\n",
       "      <th>female</th>\n",
       "      <td>24.00</td>\n",
       "    </tr>\n",
       "    <tr>\n",
       "      <th>male</th>\n",
       "      <td>28.00</td>\n",
       "    </tr>\n",
       "    <tr>\n",
       "      <th rowspan=\"2\" valign=\"top\">(64.041, 128.082]</th>\n",
       "      <th>female</th>\n",
       "      <td>35.50</td>\n",
       "    </tr>\n",
       "    <tr>\n",
       "      <th>male</th>\n",
       "      <td>36.00</td>\n",
       "    </tr>\n",
       "    <tr>\n",
       "      <th rowspan=\"2\" valign=\"top\">(128.082, 192.123]</th>\n",
       "      <th>female</th>\n",
       "      <td>35.00</td>\n",
       "    </tr>\n",
       "    <tr>\n",
       "      <th>male</th>\n",
       "      <td>34.00</td>\n",
       "    </tr>\n",
       "    <tr>\n",
       "      <th rowspan=\"2\" valign=\"top\">(192.123, 256.165]</th>\n",
       "      <th>female</th>\n",
       "      <td>38.00</td>\n",
       "    </tr>\n",
       "    <tr>\n",
       "      <th>male</th>\n",
       "      <td>39.75</td>\n",
       "    </tr>\n",
       "    <tr>\n",
       "      <th rowspan=\"2\" valign=\"top\">(256.165, 320.206]</th>\n",
       "      <th>female</th>\n",
       "      <td>28.00</td>\n",
       "    </tr>\n",
       "    <tr>\n",
       "      <th>male</th>\n",
       "      <td>40.00</td>\n",
       "    </tr>\n",
       "    <tr>\n",
       "      <th rowspan=\"2\" valign=\"top\">(320.206, 384.247]</th>\n",
       "      <th>female</th>\n",
       "      <td>NaN</td>\n",
       "    </tr>\n",
       "    <tr>\n",
       "      <th>male</th>\n",
       "      <td>NaN</td>\n",
       "    </tr>\n",
       "    <tr>\n",
       "      <th rowspan=\"2\" valign=\"top\">(384.247, 448.288]</th>\n",
       "      <th>female</th>\n",
       "      <td>NaN</td>\n",
       "    </tr>\n",
       "    <tr>\n",
       "      <th>male</th>\n",
       "      <td>NaN</td>\n",
       "    </tr>\n",
       "    <tr>\n",
       "      <th rowspan=\"2\" valign=\"top\">(448.288, 512.329]</th>\n",
       "      <th>female</th>\n",
       "      <td>46.50</td>\n",
       "    </tr>\n",
       "    <tr>\n",
       "      <th>male</th>\n",
       "      <td>35.50</td>\n",
       "    </tr>\n",
       "  </tbody>\n",
       "</table>\n",
       "</div>"
      ],
      "text/plain": [
       "                             Age\n",
       "Fare_cut           Sex          \n",
       "(-0.512, 64.041]   female  24.00\n",
       "                   male    28.00\n",
       "(64.041, 128.082]  female  35.50\n",
       "                   male    36.00\n",
       "(128.082, 192.123] female  35.00\n",
       "                   male    34.00\n",
       "(192.123, 256.165] female  38.00\n",
       "                   male    39.75\n",
       "(256.165, 320.206] female  28.00\n",
       "                   male    40.00\n",
       "(320.206, 384.247] female    NaN\n",
       "                   male      NaN\n",
       "(384.247, 448.288] female    NaN\n",
       "                   male      NaN\n",
       "(448.288, 512.329] female  46.50\n",
       "                   male    35.50"
      ]
     },
     "execution_count": 218,
     "metadata": {},
     "output_type": "execute_result"
    }
   ],
   "source": [
    "df_all.groupby(['Fare_cut','Sex']).agg({'Age':'median'})"
   ]
  },
  {
   "cell_type": "markdown",
   "id": "3c199a48",
   "metadata": {},
   "source": [
    "#### groupby.transform 分组之后用组内的Age中位数填充"
   ]
  },
  {
   "cell_type": "code",
   "execution_count": 219,
   "id": "f76b74e5",
   "metadata": {
    "ExecuteTime": {
     "end_time": "2021-09-17T07:55:12.325356Z",
     "start_time": "2021-09-17T07:55:12.215251Z"
    }
   },
   "outputs": [],
   "source": [
    "df_all['Age'] = df_all.groupby(['Pclass','Sex','SibSp','Parch','Embarked','Fare_cut'])['Age'].transform(lambda x:x.fillna(x.median()))"
   ]
  },
  {
   "cell_type": "code",
   "execution_count": 220,
   "id": "french-script",
   "metadata": {
    "ExecuteTime": {
     "end_time": "2021-09-17T07:55:12.342336Z",
     "start_time": "2021-09-17T07:55:12.327801Z"
    }
   },
   "outputs": [],
   "source": [
    "df_all['Age'] = df_all.groupby(['Pclass','Sex'])['Age'].transform(lambda x:x.fillna(x.median()))"
   ]
  },
  {
   "cell_type": "code",
   "execution_count": 221,
   "id": "35def404",
   "metadata": {
    "ExecuteTime": {
     "end_time": "2021-09-17T07:55:12.360887Z",
     "start_time": "2021-09-17T07:55:12.346849Z"
    }
   },
   "outputs": [
    {
     "data": {
      "text/html": [
       "<div>\n",
       "<style scoped>\n",
       "    .dataframe tbody tr th:only-of-type {\n",
       "        vertical-align: middle;\n",
       "    }\n",
       "\n",
       "    .dataframe tbody tr th {\n",
       "        vertical-align: top;\n",
       "    }\n",
       "\n",
       "    .dataframe thead th {\n",
       "        text-align: right;\n",
       "    }\n",
       "</style>\n",
       "<table border=\"1\" class=\"dataframe\">\n",
       "  <thead>\n",
       "    <tr style=\"text-align: right;\">\n",
       "      <th></th>\n",
       "      <th>PassengerId</th>\n",
       "      <th>Survived</th>\n",
       "      <th>Pclass</th>\n",
       "      <th>Name</th>\n",
       "      <th>Sex</th>\n",
       "      <th>Age</th>\n",
       "      <th>SibSp</th>\n",
       "      <th>Parch</th>\n",
       "      <th>Ticket</th>\n",
       "      <th>Fare</th>\n",
       "      <th>Cabin</th>\n",
       "      <th>Embarked</th>\n",
       "      <th>Age_cut</th>\n",
       "      <th>Fare_cut</th>\n",
       "    </tr>\n",
       "  </thead>\n",
       "  <tbody>\n",
       "  </tbody>\n",
       "</table>\n",
       "</div>"
      ],
      "text/plain": [
       "Empty DataFrame\n",
       "Columns: [PassengerId, Survived, Pclass, Name, Sex, Age, SibSp, Parch, Ticket, Fare, Cabin, Embarked, Age_cut, Fare_cut]\n",
       "Index: []"
      ]
     },
     "execution_count": 221,
     "metadata": {},
     "output_type": "execute_result"
    }
   ],
   "source": [
    "df_all[df_all['Age'].isnull()]"
   ]
  },
  {
   "cell_type": "markdown",
   "id": "9ddb6f7a",
   "metadata": {
    "ExecuteTime": {
     "end_time": "2021-09-06T08:23:58.485153Z",
     "start_time": "2021-09-06T08:23:58.467167Z"
    }
   },
   "source": [
    "## Cabin"
   ]
  },
  {
   "cell_type": "code",
   "execution_count": 222,
   "id": "7790d5a2",
   "metadata": {
    "ExecuteTime": {
     "end_time": "2021-09-17T07:55:12.376427Z",
     "start_time": "2021-09-17T07:55:12.368908Z"
    }
   },
   "outputs": [
    {
     "data": {
      "text/plain": [
       "True     1014\n",
       "False     295\n",
       "Name: Cabin, dtype: int64"
      ]
     },
     "execution_count": 222,
     "metadata": {},
     "output_type": "execute_result"
    }
   ],
   "source": [
    "df_all['Cabin'].isnull().value_counts()"
   ]
  },
  {
   "cell_type": "code",
   "execution_count": 223,
   "id": "hundred-celtic",
   "metadata": {
    "ExecuteTime": {
     "end_time": "2021-09-17T07:55:12.388962Z",
     "start_time": "2021-09-17T07:55:12.382945Z"
    }
   },
   "outputs": [],
   "source": [
    "del df_all['Cabin']"
   ]
  },
  {
   "cell_type": "markdown",
   "id": "married-nudist",
   "metadata": {},
   "source": [
    "<div class=\"burk\">\n",
    "Cabin缺失值太多，直接删除了</div><i class=\"fa fa-lightbulb-o \"></i>"
   ]
  },
  {
   "cell_type": "markdown",
   "id": "eccd46d7",
   "metadata": {},
   "source": [
    "**缺失值补充结束**"
   ]
  },
  {
   "cell_type": "code",
   "execution_count": 224,
   "id": "380e5b42",
   "metadata": {
    "ExecuteTime": {
     "end_time": "2021-09-17T07:55:12.420174Z",
     "start_time": "2021-09-17T07:55:12.391467Z"
    }
   },
   "outputs": [
    {
     "name": "stdout",
     "output_type": "stream",
     "text": [
      "<class 'pandas.core.frame.DataFrame'>\n",
      "RangeIndex: 1309 entries, 0 to 1308\n",
      "Data columns (total 13 columns):\n",
      " #   Column       Non-Null Count  Dtype   \n",
      "---  ------       --------------  -----   \n",
      " 0   PassengerId  1309 non-null   int64   \n",
      " 1   Survived     891 non-null    float64 \n",
      " 2   Pclass       1309 non-null   int64   \n",
      " 3   Name         1309 non-null   object  \n",
      " 4   Sex          1309 non-null   object  \n",
      " 5   Age          1309 non-null   float64 \n",
      " 6   SibSp        1309 non-null   int64   \n",
      " 7   Parch        1309 non-null   int64   \n",
      " 8   Ticket       1309 non-null   object  \n",
      " 9   Fare         1309 non-null   float64 \n",
      " 10  Embarked     1309 non-null   object  \n",
      " 11  Age_cut      1046 non-null   category\n",
      " 12  Fare_cut     1309 non-null   category\n",
      "dtypes: category(2), float64(3), int64(4), object(4)\n",
      "memory usage: 116.3+ KB\n"
     ]
    }
   ],
   "source": [
    "df_all.info()"
   ]
  },
  {
   "cell_type": "code",
   "execution_count": 225,
   "id": "2f1fa830",
   "metadata": {
    "ExecuteTime": {
     "end_time": "2021-09-17T07:55:12.430201Z",
     "start_time": "2021-09-17T07:55:12.423182Z"
    }
   },
   "outputs": [],
   "source": [
    "df_all_copy = df_all.copy()\n",
    "# 数据备份"
   ]
  },
  {
   "cell_type": "markdown",
   "id": "5b442ab4",
   "metadata": {},
   "source": [
    "# 获救分析"
   ]
  },
  {
   "cell_type": "code",
   "execution_count": 226,
   "id": "df6db693",
   "metadata": {
    "ExecuteTime": {
     "end_time": "2021-09-17T07:55:12.476323Z",
     "start_time": "2021-09-17T07:55:12.433209Z"
    }
   },
   "outputs": [
    {
     "data": {
      "text/html": [
       "<div>\n",
       "<style scoped>\n",
       "    .dataframe tbody tr th:only-of-type {\n",
       "        vertical-align: middle;\n",
       "    }\n",
       "\n",
       "    .dataframe tbody tr th {\n",
       "        vertical-align: top;\n",
       "    }\n",
       "\n",
       "    .dataframe thead th {\n",
       "        text-align: right;\n",
       "    }\n",
       "</style>\n",
       "<table border=\"1\" class=\"dataframe\">\n",
       "  <thead>\n",
       "    <tr style=\"text-align: right;\">\n",
       "      <th></th>\n",
       "      <th>PassengerId</th>\n",
       "      <th>Survived</th>\n",
       "      <th>Pclass</th>\n",
       "      <th>Name</th>\n",
       "      <th>Sex</th>\n",
       "      <th>Age</th>\n",
       "      <th>SibSp</th>\n",
       "      <th>Parch</th>\n",
       "      <th>Ticket</th>\n",
       "      <th>Fare</th>\n",
       "      <th>Embarked</th>\n",
       "      <th>Age_cut</th>\n",
       "      <th>Fare_cut</th>\n",
       "    </tr>\n",
       "  </thead>\n",
       "  <tbody>\n",
       "    <tr>\n",
       "      <th>0</th>\n",
       "      <td>1</td>\n",
       "      <td>0.0</td>\n",
       "      <td>3</td>\n",
       "      <td>Braund, Mr. Owen Harris</td>\n",
       "      <td>male</td>\n",
       "      <td>22.0</td>\n",
       "      <td>1</td>\n",
       "      <td>0</td>\n",
       "      <td>A/5 21171</td>\n",
       "      <td>7.2500</td>\n",
       "      <td>S</td>\n",
       "      <td>(16.136, 24.119]</td>\n",
       "      <td>(-0.512, 64.041]</td>\n",
       "    </tr>\n",
       "    <tr>\n",
       "      <th>1</th>\n",
       "      <td>2</td>\n",
       "      <td>1.0</td>\n",
       "      <td>1</td>\n",
       "      <td>Cumings, Mrs. John Bradley (Florence Briggs Th...</td>\n",
       "      <td>female</td>\n",
       "      <td>38.0</td>\n",
       "      <td>1</td>\n",
       "      <td>0</td>\n",
       "      <td>PC 17599</td>\n",
       "      <td>71.2833</td>\n",
       "      <td>C</td>\n",
       "      <td>(32.102, 40.085]</td>\n",
       "      <td>(64.041, 128.082]</td>\n",
       "    </tr>\n",
       "    <tr>\n",
       "      <th>2</th>\n",
       "      <td>3</td>\n",
       "      <td>1.0</td>\n",
       "      <td>3</td>\n",
       "      <td>Heikkinen, Miss. Laina</td>\n",
       "      <td>female</td>\n",
       "      <td>26.0</td>\n",
       "      <td>0</td>\n",
       "      <td>0</td>\n",
       "      <td>STON/O2. 3101282</td>\n",
       "      <td>7.9250</td>\n",
       "      <td>S</td>\n",
       "      <td>(24.119, 32.102]</td>\n",
       "      <td>(-0.512, 64.041]</td>\n",
       "    </tr>\n",
       "    <tr>\n",
       "      <th>3</th>\n",
       "      <td>4</td>\n",
       "      <td>1.0</td>\n",
       "      <td>1</td>\n",
       "      <td>Futrelle, Mrs. Jacques Heath (Lily May Peel)</td>\n",
       "      <td>female</td>\n",
       "      <td>35.0</td>\n",
       "      <td>1</td>\n",
       "      <td>0</td>\n",
       "      <td>113803</td>\n",
       "      <td>53.1000</td>\n",
       "      <td>S</td>\n",
       "      <td>(32.102, 40.085]</td>\n",
       "      <td>(-0.512, 64.041]</td>\n",
       "    </tr>\n",
       "    <tr>\n",
       "      <th>4</th>\n",
       "      <td>5</td>\n",
       "      <td>0.0</td>\n",
       "      <td>3</td>\n",
       "      <td>Allen, Mr. William Henry</td>\n",
       "      <td>male</td>\n",
       "      <td>35.0</td>\n",
       "      <td>0</td>\n",
       "      <td>0</td>\n",
       "      <td>373450</td>\n",
       "      <td>8.0500</td>\n",
       "      <td>S</td>\n",
       "      <td>(32.102, 40.085]</td>\n",
       "      <td>(-0.512, 64.041]</td>\n",
       "    </tr>\n",
       "    <tr>\n",
       "      <th>...</th>\n",
       "      <td>...</td>\n",
       "      <td>...</td>\n",
       "      <td>...</td>\n",
       "      <td>...</td>\n",
       "      <td>...</td>\n",
       "      <td>...</td>\n",
       "      <td>...</td>\n",
       "      <td>...</td>\n",
       "      <td>...</td>\n",
       "      <td>...</td>\n",
       "      <td>...</td>\n",
       "      <td>...</td>\n",
       "      <td>...</td>\n",
       "    </tr>\n",
       "    <tr>\n",
       "      <th>1304</th>\n",
       "      <td>1305</td>\n",
       "      <td>NaN</td>\n",
       "      <td>3</td>\n",
       "      <td>Spector, Mr. Woolf</td>\n",
       "      <td>male</td>\n",
       "      <td>26.0</td>\n",
       "      <td>0</td>\n",
       "      <td>0</td>\n",
       "      <td>A.5. 3236</td>\n",
       "      <td>8.0500</td>\n",
       "      <td>S</td>\n",
       "      <td>NaN</td>\n",
       "      <td>(-0.512, 64.041]</td>\n",
       "    </tr>\n",
       "    <tr>\n",
       "      <th>1305</th>\n",
       "      <td>1306</td>\n",
       "      <td>NaN</td>\n",
       "      <td>1</td>\n",
       "      <td>Oliva y Ocana, Dona. Fermina</td>\n",
       "      <td>female</td>\n",
       "      <td>39.0</td>\n",
       "      <td>0</td>\n",
       "      <td>0</td>\n",
       "      <td>PC 17758</td>\n",
       "      <td>108.9000</td>\n",
       "      <td>C</td>\n",
       "      <td>(32.102, 40.085]</td>\n",
       "      <td>(64.041, 128.082]</td>\n",
       "    </tr>\n",
       "    <tr>\n",
       "      <th>1306</th>\n",
       "      <td>1307</td>\n",
       "      <td>NaN</td>\n",
       "      <td>3</td>\n",
       "      <td>Saether, Mr. Simon Sivertsen</td>\n",
       "      <td>male</td>\n",
       "      <td>38.5</td>\n",
       "      <td>0</td>\n",
       "      <td>0</td>\n",
       "      <td>SOTON/O.Q. 3101262</td>\n",
       "      <td>7.2500</td>\n",
       "      <td>S</td>\n",
       "      <td>(32.102, 40.085]</td>\n",
       "      <td>(-0.512, 64.041]</td>\n",
       "    </tr>\n",
       "    <tr>\n",
       "      <th>1307</th>\n",
       "      <td>1308</td>\n",
       "      <td>NaN</td>\n",
       "      <td>3</td>\n",
       "      <td>Ware, Mr. Frederick</td>\n",
       "      <td>male</td>\n",
       "      <td>26.0</td>\n",
       "      <td>0</td>\n",
       "      <td>0</td>\n",
       "      <td>359309</td>\n",
       "      <td>8.0500</td>\n",
       "      <td>S</td>\n",
       "      <td>NaN</td>\n",
       "      <td>(-0.512, 64.041]</td>\n",
       "    </tr>\n",
       "    <tr>\n",
       "      <th>1308</th>\n",
       "      <td>1309</td>\n",
       "      <td>NaN</td>\n",
       "      <td>3</td>\n",
       "      <td>Peter, Master. Michael J</td>\n",
       "      <td>male</td>\n",
       "      <td>15.0</td>\n",
       "      <td>1</td>\n",
       "      <td>1</td>\n",
       "      <td>2668</td>\n",
       "      <td>22.3583</td>\n",
       "      <td>C</td>\n",
       "      <td>NaN</td>\n",
       "      <td>(-0.512, 64.041]</td>\n",
       "    </tr>\n",
       "  </tbody>\n",
       "</table>\n",
       "<p>1309 rows × 13 columns</p>\n",
       "</div>"
      ],
      "text/plain": [
       "      PassengerId  Survived  Pclass  \\\n",
       "0               1       0.0       3   \n",
       "1               2       1.0       1   \n",
       "2               3       1.0       3   \n",
       "3               4       1.0       1   \n",
       "4               5       0.0       3   \n",
       "...           ...       ...     ...   \n",
       "1304         1305       NaN       3   \n",
       "1305         1306       NaN       1   \n",
       "1306         1307       NaN       3   \n",
       "1307         1308       NaN       3   \n",
       "1308         1309       NaN       3   \n",
       "\n",
       "                                                   Name     Sex   Age  SibSp  \\\n",
       "0                               Braund, Mr. Owen Harris    male  22.0      1   \n",
       "1     Cumings, Mrs. John Bradley (Florence Briggs Th...  female  38.0      1   \n",
       "2                                Heikkinen, Miss. Laina  female  26.0      0   \n",
       "3          Futrelle, Mrs. Jacques Heath (Lily May Peel)  female  35.0      1   \n",
       "4                              Allen, Mr. William Henry    male  35.0      0   \n",
       "...                                                 ...     ...   ...    ...   \n",
       "1304                                 Spector, Mr. Woolf    male  26.0      0   \n",
       "1305                       Oliva y Ocana, Dona. Fermina  female  39.0      0   \n",
       "1306                       Saether, Mr. Simon Sivertsen    male  38.5      0   \n",
       "1307                                Ware, Mr. Frederick    male  26.0      0   \n",
       "1308                           Peter, Master. Michael J    male  15.0      1   \n",
       "\n",
       "      Parch              Ticket      Fare Embarked           Age_cut  \\\n",
       "0         0           A/5 21171    7.2500        S  (16.136, 24.119]   \n",
       "1         0            PC 17599   71.2833        C  (32.102, 40.085]   \n",
       "2         0    STON/O2. 3101282    7.9250        S  (24.119, 32.102]   \n",
       "3         0              113803   53.1000        S  (32.102, 40.085]   \n",
       "4         0              373450    8.0500        S  (32.102, 40.085]   \n",
       "...     ...                 ...       ...      ...               ...   \n",
       "1304      0           A.5. 3236    8.0500        S               NaN   \n",
       "1305      0            PC 17758  108.9000        C  (32.102, 40.085]   \n",
       "1306      0  SOTON/O.Q. 3101262    7.2500        S  (32.102, 40.085]   \n",
       "1307      0              359309    8.0500        S               NaN   \n",
       "1308      1                2668   22.3583        C               NaN   \n",
       "\n",
       "               Fare_cut  \n",
       "0      (-0.512, 64.041]  \n",
       "1     (64.041, 128.082]  \n",
       "2      (-0.512, 64.041]  \n",
       "3      (-0.512, 64.041]  \n",
       "4      (-0.512, 64.041]  \n",
       "...                 ...  \n",
       "1304   (-0.512, 64.041]  \n",
       "1305  (64.041, 128.082]  \n",
       "1306   (-0.512, 64.041]  \n",
       "1307   (-0.512, 64.041]  \n",
       "1308   (-0.512, 64.041]  \n",
       "\n",
       "[1309 rows x 13 columns]"
      ]
     },
     "execution_count": 226,
     "metadata": {},
     "output_type": "execute_result"
    }
   ],
   "source": [
    "df_all"
   ]
  },
  {
   "cell_type": "code",
   "execution_count": 227,
   "id": "80321f60",
   "metadata": {
    "ExecuteTime": {
     "end_time": "2021-09-17T07:55:12.492373Z",
     "start_time": "2021-09-17T07:55:12.478329Z"
    }
   },
   "outputs": [
    {
     "data": {
      "text/plain": [
       "0    0.616162\n",
       "1    0.383838\n",
       "Name: Survived, dtype: float64"
      ]
     },
     "execution_count": 227,
     "metadata": {},
     "output_type": "execute_result"
    }
   ],
   "source": [
    "survived_sum = df_train['Survived'].value_counts().sum()\n",
    "df_train['Survived'].value_counts()/ survived_sum"
   ]
  },
  {
   "cell_type": "code",
   "execution_count": 228,
   "id": "4341197d",
   "metadata": {
    "ExecuteTime": {
     "end_time": "2021-09-17T07:55:12.633749Z",
     "start_time": "2021-09-17T07:55:12.494372Z"
    },
    "scrolled": true
   },
   "outputs": [
    {
     "data": {
      "text/plain": [
       "<AxesSubplot:>"
      ]
     },
     "execution_count": 228,
     "metadata": {},
     "output_type": "execute_result"
    },
    {
     "data": {
      "image/png": "[encoded data removed]",
      "text/plain": [
       "<Figure size 432x288 with 1 Axes>"
      ]
     },
     "metadata": {
      "needs_background": "light"
     },
     "output_type": "display_data"
    }
   ],
   "source": [
    "(df_train['Survived'].value_counts()/ survived_sum).plot(kind='bar')"
   ]
  },
  {
   "cell_type": "markdown",
   "id": "0e77aeb3",
   "metadata": {},
   "source": [
    "**训练集中获救几率约为38%**"
   ]
  },
  {
   "cell_type": "markdown",
   "id": "d7276b71",
   "metadata": {},
   "source": [
    "# Feature Engineering"
   ]
  },
  {
   "cell_type": "markdown",
   "id": "67c0e212",
   "metadata": {},
   "source": [
    "## 新的feature----Family_Size"
   ]
  },
  {
   "cell_type": "code",
   "execution_count": 229,
   "id": "1553272e",
   "metadata": {
    "ExecuteTime": {
     "end_time": "2021-09-17T07:55:12.641763Z",
     "start_time": "2021-09-17T07:55:12.635748Z"
    }
   },
   "outputs": [],
   "source": [
    "df_all['Family_Size'] = df_all['SibSp'] + df_all['Parch'] + 1"
   ]
  },
  {
   "cell_type": "markdown",
   "id": "d4d17a0c",
   "metadata": {},
   "source": [
    "**用SibSp，Parch加1，得到Family_Size的值**"
   ]
  },
  {
   "cell_type": "code",
   "execution_count": 230,
   "id": "d60f5b2e",
   "metadata": {
    "ExecuteTime": {
     "end_time": "2021-09-17T07:55:12.667832Z",
     "start_time": "2021-09-17T07:55:12.643768Z"
    }
   },
   "outputs": [
    {
     "data": {
      "text/html": [
       "<div>\n",
       "<style scoped>\n",
       "    .dataframe tbody tr th:only-of-type {\n",
       "        vertical-align: middle;\n",
       "    }\n",
       "\n",
       "    .dataframe tbody tr th {\n",
       "        vertical-align: top;\n",
       "    }\n",
       "\n",
       "    .dataframe thead th {\n",
       "        text-align: right;\n",
       "    }\n",
       "</style>\n",
       "<table border=\"1\" class=\"dataframe\">\n",
       "  <thead>\n",
       "    <tr style=\"text-align: right;\">\n",
       "      <th></th>\n",
       "      <th>PassengerId</th>\n",
       "      <th>Survived</th>\n",
       "      <th>Pclass</th>\n",
       "      <th>Name</th>\n",
       "      <th>Sex</th>\n",
       "      <th>Age</th>\n",
       "      <th>SibSp</th>\n",
       "      <th>Parch</th>\n",
       "      <th>Ticket</th>\n",
       "      <th>Fare</th>\n",
       "      <th>Embarked</th>\n",
       "      <th>Age_cut</th>\n",
       "      <th>Fare_cut</th>\n",
       "      <th>Family_Size</th>\n",
       "    </tr>\n",
       "  </thead>\n",
       "  <tbody>\n",
       "    <tr>\n",
       "      <th>0</th>\n",
       "      <td>1</td>\n",
       "      <td>0.0</td>\n",
       "      <td>3</td>\n",
       "      <td>Braund, Mr. Owen Harris</td>\n",
       "      <td>male</td>\n",
       "      <td>22.0</td>\n",
       "      <td>1</td>\n",
       "      <td>0</td>\n",
       "      <td>A/5 21171</td>\n",
       "      <td>7.2500</td>\n",
       "      <td>S</td>\n",
       "      <td>(16.136, 24.119]</td>\n",
       "      <td>(-0.512, 64.041]</td>\n",
       "      <td>2</td>\n",
       "    </tr>\n",
       "    <tr>\n",
       "      <th>1</th>\n",
       "      <td>2</td>\n",
       "      <td>1.0</td>\n",
       "      <td>1</td>\n",
       "      <td>Cumings, Mrs. John Bradley (Florence Briggs Th...</td>\n",
       "      <td>female</td>\n",
       "      <td>38.0</td>\n",
       "      <td>1</td>\n",
       "      <td>0</td>\n",
       "      <td>PC 17599</td>\n",
       "      <td>71.2833</td>\n",
       "      <td>C</td>\n",
       "      <td>(32.102, 40.085]</td>\n",
       "      <td>(64.041, 128.082]</td>\n",
       "      <td>2</td>\n",
       "    </tr>\n",
       "  </tbody>\n",
       "</table>\n",
       "</div>"
      ],
      "text/plain": [
       "   PassengerId  Survived  Pclass  \\\n",
       "0            1       0.0       3   \n",
       "1            2       1.0       1   \n",
       "\n",
       "                                                Name     Sex   Age  SibSp  \\\n",
       "0                            Braund, Mr. Owen Harris    male  22.0      1   \n",
       "1  Cumings, Mrs. John Bradley (Florence Briggs Th...  female  38.0      1   \n",
       "\n",
       "   Parch     Ticket     Fare Embarked           Age_cut           Fare_cut  \\\n",
       "0      0  A/5 21171   7.2500        S  (16.136, 24.119]   (-0.512, 64.041]   \n",
       "1      0   PC 17599  71.2833        C  (32.102, 40.085]  (64.041, 128.082]   \n",
       "\n",
       "   Family_Size  \n",
       "0            2  \n",
       "1            2  "
      ]
     },
     "execution_count": 230,
     "metadata": {},
     "output_type": "execute_result"
    }
   ],
   "source": [
    "df_all[:2]"
   ]
  },
  {
   "cell_type": "markdown",
   "id": "e335bebb",
   "metadata": {},
   "source": [
    "## 删除feature----PassengerId,Name,Ticket\t"
   ]
  },
  {
   "cell_type": "code",
   "execution_count": 231,
   "id": "9d68fa4d",
   "metadata": {
    "ExecuteTime": {
     "end_time": "2021-09-17T07:55:12.698916Z",
     "start_time": "2021-09-17T07:55:12.669838Z"
    }
   },
   "outputs": [
    {
     "data": {
      "text/html": [
       "<div>\n",
       "<style scoped>\n",
       "    .dataframe tbody tr th:only-of-type {\n",
       "        vertical-align: middle;\n",
       "    }\n",
       "\n",
       "    .dataframe tbody tr th {\n",
       "        vertical-align: top;\n",
       "    }\n",
       "\n",
       "    .dataframe thead th {\n",
       "        text-align: right;\n",
       "    }\n",
       "</style>\n",
       "<table border=\"1\" class=\"dataframe\">\n",
       "  <thead>\n",
       "    <tr style=\"text-align: right;\">\n",
       "      <th></th>\n",
       "      <th>Survived</th>\n",
       "      <th>Pclass</th>\n",
       "      <th>Sex</th>\n",
       "      <th>Age</th>\n",
       "      <th>SibSp</th>\n",
       "      <th>Parch</th>\n",
       "      <th>Fare</th>\n",
       "      <th>Embarked</th>\n",
       "      <th>Family_Size</th>\n",
       "    </tr>\n",
       "  </thead>\n",
       "  <tbody>\n",
       "    <tr>\n",
       "      <th>0</th>\n",
       "      <td>0.0</td>\n",
       "      <td>3</td>\n",
       "      <td>male</td>\n",
       "      <td>22.0</td>\n",
       "      <td>1</td>\n",
       "      <td>0</td>\n",
       "      <td>7.2500</td>\n",
       "      <td>S</td>\n",
       "      <td>2</td>\n",
       "    </tr>\n",
       "    <tr>\n",
       "      <th>1</th>\n",
       "      <td>1.0</td>\n",
       "      <td>1</td>\n",
       "      <td>female</td>\n",
       "      <td>38.0</td>\n",
       "      <td>1</td>\n",
       "      <td>0</td>\n",
       "      <td>71.2833</td>\n",
       "      <td>C</td>\n",
       "      <td>2</td>\n",
       "    </tr>\n",
       "    <tr>\n",
       "      <th>2</th>\n",
       "      <td>1.0</td>\n",
       "      <td>3</td>\n",
       "      <td>female</td>\n",
       "      <td>26.0</td>\n",
       "      <td>0</td>\n",
       "      <td>0</td>\n",
       "      <td>7.9250</td>\n",
       "      <td>S</td>\n",
       "      <td>1</td>\n",
       "    </tr>\n",
       "  </tbody>\n",
       "</table>\n",
       "</div>"
      ],
      "text/plain": [
       "   Survived  Pclass     Sex   Age  SibSp  Parch     Fare Embarked  Family_Size\n",
       "0       0.0       3    male  22.0      1      0   7.2500        S            2\n",
       "1       1.0       1  female  38.0      1      0  71.2833        C            2\n",
       "2       1.0       3  female  26.0      0      0   7.9250        S            1"
      ]
     },
     "execution_count": 231,
     "metadata": {},
     "output_type": "execute_result"
    }
   ],
   "source": [
    "df_all.drop(columns=['PassengerId','Name','Ticket','Age_cut','Fare_cut'],inplace=True)\n",
    "\n",
    "df_all[:3]"
   ]
  },
  {
   "cell_type": "markdown",
   "id": "03bf8934",
   "metadata": {},
   "source": [
    "## 分类型feature 编码"
   ]
  },
  {
   "cell_type": "markdown",
   "id": "dd104a5c",
   "metadata": {
    "ExecuteTime": {
     "end_time": "2021-09-09T06:37:23.904352Z",
     "start_time": "2021-09-09T06:37:23.895376Z"
    }
   },
   "source": [
    "**<span class=\"burk\">名义变量，有距变量适合用独热编码OneHotEncoder<br />\n",
    "有距变量,适合用LabelEncoder</span>**"
   ]
  },
  {
   "attachments": {
    "image.png": {
     "image/png": "[encoded data removed]"
    }
   },
   "cell_type": "markdown",
   "id": "08838970",
   "metadata": {},
   "source": [
    "![image.png](attachment:image.png)"
   ]
  },
  {
   "cell_type": "code",
   "execution_count": 232,
   "id": "1a904402",
   "metadata": {
    "ExecuteTime": {
     "end_time": "2021-09-17T07:55:12.727993Z",
     "start_time": "2021-09-17T07:55:12.701924Z"
    }
   },
   "outputs": [
    {
     "data": {
      "text/html": [
       "<div>\n",
       "<style scoped>\n",
       "    .dataframe tbody tr th:only-of-type {\n",
       "        vertical-align: middle;\n",
       "    }\n",
       "\n",
       "    .dataframe tbody tr th {\n",
       "        vertical-align: top;\n",
       "    }\n",
       "\n",
       "    .dataframe thead th {\n",
       "        text-align: right;\n",
       "    }\n",
       "</style>\n",
       "<table border=\"1\" class=\"dataframe\">\n",
       "  <thead>\n",
       "    <tr style=\"text-align: right;\">\n",
       "      <th></th>\n",
       "      <th>Survived</th>\n",
       "      <th>Pclass</th>\n",
       "      <th>Sex</th>\n",
       "      <th>Age</th>\n",
       "      <th>SibSp</th>\n",
       "      <th>Parch</th>\n",
       "      <th>Fare</th>\n",
       "      <th>Embarked</th>\n",
       "      <th>Family_Size</th>\n",
       "    </tr>\n",
       "  </thead>\n",
       "  <tbody>\n",
       "    <tr>\n",
       "      <th>0</th>\n",
       "      <td>0.0</td>\n",
       "      <td>3</td>\n",
       "      <td>male</td>\n",
       "      <td>22.0</td>\n",
       "      <td>1</td>\n",
       "      <td>0</td>\n",
       "      <td>7.2500</td>\n",
       "      <td>S</td>\n",
       "      <td>2</td>\n",
       "    </tr>\n",
       "    <tr>\n",
       "      <th>1</th>\n",
       "      <td>1.0</td>\n",
       "      <td>1</td>\n",
       "      <td>female</td>\n",
       "      <td>38.0</td>\n",
       "      <td>1</td>\n",
       "      <td>0</td>\n",
       "      <td>71.2833</td>\n",
       "      <td>C</td>\n",
       "      <td>2</td>\n",
       "    </tr>\n",
       "    <tr>\n",
       "      <th>2</th>\n",
       "      <td>1.0</td>\n",
       "      <td>3</td>\n",
       "      <td>female</td>\n",
       "      <td>26.0</td>\n",
       "      <td>0</td>\n",
       "      <td>0</td>\n",
       "      <td>7.9250</td>\n",
       "      <td>S</td>\n",
       "      <td>1</td>\n",
       "    </tr>\n",
       "    <tr>\n",
       "      <th>3</th>\n",
       "      <td>1.0</td>\n",
       "      <td>1</td>\n",
       "      <td>female</td>\n",
       "      <td>35.0</td>\n",
       "      <td>1</td>\n",
       "      <td>0</td>\n",
       "      <td>53.1000</td>\n",
       "      <td>S</td>\n",
       "      <td>2</td>\n",
       "    </tr>\n",
       "    <tr>\n",
       "      <th>4</th>\n",
       "      <td>0.0</td>\n",
       "      <td>3</td>\n",
       "      <td>male</td>\n",
       "      <td>35.0</td>\n",
       "      <td>0</td>\n",
       "      <td>0</td>\n",
       "      <td>8.0500</td>\n",
       "      <td>S</td>\n",
       "      <td>1</td>\n",
       "    </tr>\n",
       "    <tr>\n",
       "      <th>...</th>\n",
       "      <td>...</td>\n",
       "      <td>...</td>\n",
       "      <td>...</td>\n",
       "      <td>...</td>\n",
       "      <td>...</td>\n",
       "      <td>...</td>\n",
       "      <td>...</td>\n",
       "      <td>...</td>\n",
       "      <td>...</td>\n",
       "    </tr>\n",
       "    <tr>\n",
       "      <th>1304</th>\n",
       "      <td>NaN</td>\n",
       "      <td>3</td>\n",
       "      <td>male</td>\n",
       "      <td>26.0</td>\n",
       "      <td>0</td>\n",
       "      <td>0</td>\n",
       "      <td>8.0500</td>\n",
       "      <td>S</td>\n",
       "      <td>1</td>\n",
       "    </tr>\n",
       "    <tr>\n",
       "      <th>1305</th>\n",
       "      <td>NaN</td>\n",
       "      <td>1</td>\n",
       "      <td>female</td>\n",
       "      <td>39.0</td>\n",
       "      <td>0</td>\n",
       "      <td>0</td>\n",
       "      <td>108.9000</td>\n",
       "      <td>C</td>\n",
       "      <td>1</td>\n",
       "    </tr>\n",
       "    <tr>\n",
       "      <th>1306</th>\n",
       "      <td>NaN</td>\n",
       "      <td>3</td>\n",
       "      <td>male</td>\n",
       "      <td>38.5</td>\n",
       "      <td>0</td>\n",
       "      <td>0</td>\n",
       "      <td>7.2500</td>\n",
       "      <td>S</td>\n",
       "      <td>1</td>\n",
       "    </tr>\n",
       "    <tr>\n",
       "      <th>1307</th>\n",
       "      <td>NaN</td>\n",
       "      <td>3</td>\n",
       "      <td>male</td>\n",
       "      <td>26.0</td>\n",
       "      <td>0</td>\n",
       "      <td>0</td>\n",
       "      <td>8.0500</td>\n",
       "      <td>S</td>\n",
       "      <td>1</td>\n",
       "    </tr>\n",
       "    <tr>\n",
       "      <th>1308</th>\n",
       "      <td>NaN</td>\n",
       "      <td>3</td>\n",
       "      <td>male</td>\n",
       "      <td>15.0</td>\n",
       "      <td>1</td>\n",
       "      <td>1</td>\n",
       "      <td>22.3583</td>\n",
       "      <td>C</td>\n",
       "      <td>3</td>\n",
       "    </tr>\n",
       "  </tbody>\n",
       "</table>\n",
       "<p>1309 rows × 9 columns</p>\n",
       "</div>"
      ],
      "text/plain": [
       "      Survived  Pclass     Sex   Age  SibSp  Parch      Fare Embarked  \\\n",
       "0          0.0       3    male  22.0      1      0    7.2500        S   \n",
       "1          1.0       1  female  38.0      1      0   71.2833        C   \n",
       "2          1.0       3  female  26.0      0      0    7.9250        S   \n",
       "3          1.0       1  female  35.0      1      0   53.1000        S   \n",
       "4          0.0       3    male  35.0      0      0    8.0500        S   \n",
       "...        ...     ...     ...   ...    ...    ...       ...      ...   \n",
       "1304       NaN       3    male  26.0      0      0    8.0500        S   \n",
       "1305       NaN       1  female  39.0      0      0  108.9000        C   \n",
       "1306       NaN       3    male  38.5      0      0    7.2500        S   \n",
       "1307       NaN       3    male  26.0      0      0    8.0500        S   \n",
       "1308       NaN       3    male  15.0      1      1   22.3583        C   \n",
       "\n",
       "      Family_Size  \n",
       "0               2  \n",
       "1               2  \n",
       "2               1  \n",
       "3               2  \n",
       "4               1  \n",
       "...           ...  \n",
       "1304            1  \n",
       "1305            1  \n",
       "1306            1  \n",
       "1307            1  \n",
       "1308            3  \n",
       "\n",
       "[1309 rows x 9 columns]"
      ]
     },
     "execution_count": 232,
     "metadata": {},
     "output_type": "execute_result"
    }
   ],
   "source": [
    "df_all"
   ]
  },
  {
   "cell_type": "markdown",
   "id": "44722cc6",
   "metadata": {},
   "source": [
    "### OneHotEncoder"
   ]
  },
  {
   "cell_type": "code",
   "execution_count": 233,
   "id": "92a4217a",
   "metadata": {
    "ExecuteTime": {
     "end_time": "2021-09-17T07:55:12.754062Z",
     "start_time": "2021-09-17T07:55:12.729998Z"
    }
   },
   "outputs": [
    {
     "name": "stdout",
     "output_type": "stream",
     "text": [
      "['Sex_1', 'Sex_2']\n",
      "['Embarked_1', 'Embarked_2', 'Embarked_3']\n",
      "['Pclass_1', 'Pclass_2', 'Pclass_3']\n"
     ]
    }
   ],
   "source": [
    "cat_features_list = ['Sex', 'Embarked','Pclass']\n",
    "df_all_encode = pd.DataFrame()\n",
    "for feature in cat_features_list:\n",
    "    data_encode = OneHotEncoder().fit_transform(df_all[feature].values.reshape(-1, 1)).toarray()\n",
    "    value_count = df_all[feature].unique().size\n",
    "    new_columns = ['{}_{}'.format(feature,i) for i in range(1,value_count+1)]\n",
    "    print(new_columns)\n",
    "    df_encode = pd.DataFrame(data_encode,columns=new_columns)\n",
    "#     print(df_encode)\n",
    "    df_all_encode = pd.concat([df_all_encode,df_encode],axis=1)\n"
   ]
  },
  {
   "cell_type": "markdown",
   "id": "660dcd33",
   "metadata": {},
   "source": [
    "**OneHotEncoder编码之后的数据如下**"
   ]
  },
  {
   "cell_type": "code",
   "execution_count": 234,
   "id": "0036fe11",
   "metadata": {
    "ExecuteTime": {
     "end_time": "2021-09-17T07:55:12.776121Z",
     "start_time": "2021-09-17T07:55:12.757070Z"
    }
   },
   "outputs": [
    {
     "data": {
      "text/html": [
       "<div>\n",
       "<style scoped>\n",
       "    .dataframe tbody tr th:only-of-type {\n",
       "        vertical-align: middle;\n",
       "    }\n",
       "\n",
       "    .dataframe tbody tr th {\n",
       "        vertical-align: top;\n",
       "    }\n",
       "\n",
       "    .dataframe thead th {\n",
       "        text-align: right;\n",
       "    }\n",
       "</style>\n",
       "<table border=\"1\" class=\"dataframe\">\n",
       "  <thead>\n",
       "    <tr style=\"text-align: right;\">\n",
       "      <th></th>\n",
       "      <th>Sex_1</th>\n",
       "      <th>Sex_2</th>\n",
       "      <th>Embarked_1</th>\n",
       "      <th>Embarked_2</th>\n",
       "      <th>Embarked_3</th>\n",
       "      <th>Pclass_1</th>\n",
       "      <th>Pclass_2</th>\n",
       "      <th>Pclass_3</th>\n",
       "    </tr>\n",
       "  </thead>\n",
       "  <tbody>\n",
       "    <tr>\n",
       "      <th>0</th>\n",
       "      <td>0.0</td>\n",
       "      <td>1.0</td>\n",
       "      <td>0.0</td>\n",
       "      <td>0.0</td>\n",
       "      <td>1.0</td>\n",
       "      <td>0.0</td>\n",
       "      <td>0.0</td>\n",
       "      <td>1.0</td>\n",
       "    </tr>\n",
       "    <tr>\n",
       "      <th>1</th>\n",
       "      <td>1.0</td>\n",
       "      <td>0.0</td>\n",
       "      <td>1.0</td>\n",
       "      <td>0.0</td>\n",
       "      <td>0.0</td>\n",
       "      <td>1.0</td>\n",
       "      <td>0.0</td>\n",
       "      <td>0.0</td>\n",
       "    </tr>\n",
       "    <tr>\n",
       "      <th>2</th>\n",
       "      <td>1.0</td>\n",
       "      <td>0.0</td>\n",
       "      <td>0.0</td>\n",
       "      <td>0.0</td>\n",
       "      <td>1.0</td>\n",
       "      <td>0.0</td>\n",
       "      <td>0.0</td>\n",
       "      <td>1.0</td>\n",
       "    </tr>\n",
       "    <tr>\n",
       "      <th>3</th>\n",
       "      <td>1.0</td>\n",
       "      <td>0.0</td>\n",
       "      <td>0.0</td>\n",
       "      <td>0.0</td>\n",
       "      <td>1.0</td>\n",
       "      <td>1.0</td>\n",
       "      <td>0.0</td>\n",
       "      <td>0.0</td>\n",
       "    </tr>\n",
       "    <tr>\n",
       "      <th>4</th>\n",
       "      <td>0.0</td>\n",
       "      <td>1.0</td>\n",
       "      <td>0.0</td>\n",
       "      <td>0.0</td>\n",
       "      <td>1.0</td>\n",
       "      <td>0.0</td>\n",
       "      <td>0.0</td>\n",
       "      <td>1.0</td>\n",
       "    </tr>\n",
       "    <tr>\n",
       "      <th>...</th>\n",
       "      <td>...</td>\n",
       "      <td>...</td>\n",
       "      <td>...</td>\n",
       "      <td>...</td>\n",
       "      <td>...</td>\n",
       "      <td>...</td>\n",
       "      <td>...</td>\n",
       "      <td>...</td>\n",
       "    </tr>\n",
       "    <tr>\n",
       "      <th>1304</th>\n",
       "      <td>0.0</td>\n",
       "      <td>1.0</td>\n",
       "      <td>0.0</td>\n",
       "      <td>0.0</td>\n",
       "      <td>1.0</td>\n",
       "      <td>0.0</td>\n",
       "      <td>0.0</td>\n",
       "      <td>1.0</td>\n",
       "    </tr>\n",
       "    <tr>\n",
       "      <th>1305</th>\n",
       "      <td>1.0</td>\n",
       "      <td>0.0</td>\n",
       "      <td>1.0</td>\n",
       "      <td>0.0</td>\n",
       "      <td>0.0</td>\n",
       "      <td>1.0</td>\n",
       "      <td>0.0</td>\n",
       "      <td>0.0</td>\n",
       "    </tr>\n",
       "    <tr>\n",
       "      <th>1306</th>\n",
       "      <td>0.0</td>\n",
       "      <td>1.0</td>\n",
       "      <td>0.0</td>\n",
       "      <td>0.0</td>\n",
       "      <td>1.0</td>\n",
       "      <td>0.0</td>\n",
       "      <td>0.0</td>\n",
       "      <td>1.0</td>\n",
       "    </tr>\n",
       "    <tr>\n",
       "      <th>1307</th>\n",
       "      <td>0.0</td>\n",
       "      <td>1.0</td>\n",
       "      <td>0.0</td>\n",
       "      <td>0.0</td>\n",
       "      <td>1.0</td>\n",
       "      <td>0.0</td>\n",
       "      <td>0.0</td>\n",
       "      <td>1.0</td>\n",
       "    </tr>\n",
       "    <tr>\n",
       "      <th>1308</th>\n",
       "      <td>0.0</td>\n",
       "      <td>1.0</td>\n",
       "      <td>1.0</td>\n",
       "      <td>0.0</td>\n",
       "      <td>0.0</td>\n",
       "      <td>0.0</td>\n",
       "      <td>0.0</td>\n",
       "      <td>1.0</td>\n",
       "    </tr>\n",
       "  </tbody>\n",
       "</table>\n",
       "<p>1309 rows × 8 columns</p>\n",
       "</div>"
      ],
      "text/plain": [
       "      Sex_1  Sex_2  Embarked_1  Embarked_2  Embarked_3  Pclass_1  Pclass_2  \\\n",
       "0       0.0    1.0         0.0         0.0         1.0       0.0       0.0   \n",
       "1       1.0    0.0         1.0         0.0         0.0       1.0       0.0   \n",
       "2       1.0    0.0         0.0         0.0         1.0       0.0       0.0   \n",
       "3       1.0    0.0         0.0         0.0         1.0       1.0       0.0   \n",
       "4       0.0    1.0         0.0         0.0         1.0       0.0       0.0   \n",
       "...     ...    ...         ...         ...         ...       ...       ...   \n",
       "1304    0.0    1.0         0.0         0.0         1.0       0.0       0.0   \n",
       "1305    1.0    0.0         1.0         0.0         0.0       1.0       0.0   \n",
       "1306    0.0    1.0         0.0         0.0         1.0       0.0       0.0   \n",
       "1307    0.0    1.0         0.0         0.0         1.0       0.0       0.0   \n",
       "1308    0.0    1.0         1.0         0.0         0.0       0.0       0.0   \n",
       "\n",
       "      Pclass_3  \n",
       "0          1.0  \n",
       "1          0.0  \n",
       "2          1.0  \n",
       "3          0.0  \n",
       "4          1.0  \n",
       "...        ...  \n",
       "1304       1.0  \n",
       "1305       0.0  \n",
       "1306       1.0  \n",
       "1307       1.0  \n",
       "1308       1.0  \n",
       "\n",
       "[1309 rows x 8 columns]"
      ]
     },
     "execution_count": 234,
     "metadata": {},
     "output_type": "execute_result"
    }
   ],
   "source": [
    "df_all_encode"
   ]
  },
  {
   "cell_type": "markdown",
   "id": "83b4ed6a",
   "metadata": {},
   "source": [
    "**将OneHotEncoder编码生成的数据和df_all拼接起来，并且将编码之前的四个feature:['Sex', 'Cabin', 'Embarked', 'Title']删除**"
   ]
  },
  {
   "cell_type": "code",
   "execution_count": 235,
   "id": "1b1b29f7",
   "metadata": {
    "ExecuteTime": {
     "end_time": "2021-09-17T07:55:12.795171Z",
     "start_time": "2021-09-17T07:55:12.778127Z"
    }
   },
   "outputs": [],
   "source": [
    "df_all = pd.concat([df_all,df_all_encode],axis=1)\n",
    "df_all.drop(columns=['Sex','Pclass','Embarked'],inplace=True)"
   ]
  },
  {
   "cell_type": "code",
   "execution_count": 236,
   "id": "08937fe8",
   "metadata": {
    "ExecuteTime": {
     "end_time": "2021-09-17T07:55:12.822243Z",
     "start_time": "2021-09-17T07:55:12.797177Z"
    }
   },
   "outputs": [
    {
     "data": {
      "text/html": [
       "<div>\n",
       "<style scoped>\n",
       "    .dataframe tbody tr th:only-of-type {\n",
       "        vertical-align: middle;\n",
       "    }\n",
       "\n",
       "    .dataframe tbody tr th {\n",
       "        vertical-align: top;\n",
       "    }\n",
       "\n",
       "    .dataframe thead th {\n",
       "        text-align: right;\n",
       "    }\n",
       "</style>\n",
       "<table border=\"1\" class=\"dataframe\">\n",
       "  <thead>\n",
       "    <tr style=\"text-align: right;\">\n",
       "      <th></th>\n",
       "      <th>Survived</th>\n",
       "      <th>Age</th>\n",
       "      <th>SibSp</th>\n",
       "      <th>Parch</th>\n",
       "      <th>Fare</th>\n",
       "      <th>Family_Size</th>\n",
       "      <th>Sex_1</th>\n",
       "      <th>Sex_2</th>\n",
       "      <th>Embarked_1</th>\n",
       "      <th>Embarked_2</th>\n",
       "      <th>Embarked_3</th>\n",
       "      <th>Pclass_1</th>\n",
       "      <th>Pclass_2</th>\n",
       "      <th>Pclass_3</th>\n",
       "    </tr>\n",
       "  </thead>\n",
       "  <tbody>\n",
       "    <tr>\n",
       "      <th>0</th>\n",
       "      <td>0.0</td>\n",
       "      <td>22.0</td>\n",
       "      <td>1</td>\n",
       "      <td>0</td>\n",
       "      <td>7.2500</td>\n",
       "      <td>2</td>\n",
       "      <td>0.0</td>\n",
       "      <td>1.0</td>\n",
       "      <td>0.0</td>\n",
       "      <td>0.0</td>\n",
       "      <td>1.0</td>\n",
       "      <td>0.0</td>\n",
       "      <td>0.0</td>\n",
       "      <td>1.0</td>\n",
       "    </tr>\n",
       "    <tr>\n",
       "      <th>1</th>\n",
       "      <td>1.0</td>\n",
       "      <td>38.0</td>\n",
       "      <td>1</td>\n",
       "      <td>0</td>\n",
       "      <td>71.2833</td>\n",
       "      <td>2</td>\n",
       "      <td>1.0</td>\n",
       "      <td>0.0</td>\n",
       "      <td>1.0</td>\n",
       "      <td>0.0</td>\n",
       "      <td>0.0</td>\n",
       "      <td>1.0</td>\n",
       "      <td>0.0</td>\n",
       "      <td>0.0</td>\n",
       "    </tr>\n",
       "    <tr>\n",
       "      <th>2</th>\n",
       "      <td>1.0</td>\n",
       "      <td>26.0</td>\n",
       "      <td>0</td>\n",
       "      <td>0</td>\n",
       "      <td>7.9250</td>\n",
       "      <td>1</td>\n",
       "      <td>1.0</td>\n",
       "      <td>0.0</td>\n",
       "      <td>0.0</td>\n",
       "      <td>0.0</td>\n",
       "      <td>1.0</td>\n",
       "      <td>0.0</td>\n",
       "      <td>0.0</td>\n",
       "      <td>1.0</td>\n",
       "    </tr>\n",
       "  </tbody>\n",
       "</table>\n",
       "</div>"
      ],
      "text/plain": [
       "   Survived   Age  SibSp  Parch     Fare  Family_Size  Sex_1  Sex_2  \\\n",
       "0       0.0  22.0      1      0   7.2500            2    0.0    1.0   \n",
       "1       1.0  38.0      1      0  71.2833            2    1.0    0.0   \n",
       "2       1.0  26.0      0      0   7.9250            1    1.0    0.0   \n",
       "\n",
       "   Embarked_1  Embarked_2  Embarked_3  Pclass_1  Pclass_2  Pclass_3  \n",
       "0         0.0         0.0         1.0       0.0       0.0       1.0  \n",
       "1         1.0         0.0         0.0       1.0       0.0       0.0  \n",
       "2         0.0         0.0         1.0       0.0       0.0       1.0  "
      ]
     },
     "execution_count": 236,
     "metadata": {},
     "output_type": "execute_result"
    }
   ],
   "source": [
    "df_all[:3]"
   ]
  },
  {
   "cell_type": "code",
   "execution_count": 237,
   "id": "1392f46b",
   "metadata": {
    "ExecuteTime": {
     "end_time": "2021-09-17T07:55:12.840292Z",
     "start_time": "2021-09-17T07:55:12.825252Z"
    }
   },
   "outputs": [
    {
     "name": "stdout",
     "output_type": "stream",
     "text": [
      "<class 'pandas.core.frame.DataFrame'>\n",
      "RangeIndex: 1309 entries, 0 to 1308\n",
      "Data columns (total 14 columns):\n",
      " #   Column       Non-Null Count  Dtype  \n",
      "---  ------       --------------  -----  \n",
      " 0   Survived     891 non-null    float64\n",
      " 1   Age          1309 non-null   float64\n",
      " 2   SibSp        1309 non-null   int64  \n",
      " 3   Parch        1309 non-null   int64  \n",
      " 4   Fare         1309 non-null   float64\n",
      " 5   Family_Size  1309 non-null   int64  \n",
      " 6   Sex_1        1309 non-null   float64\n",
      " 7   Sex_2        1309 non-null   float64\n",
      " 8   Embarked_1   1309 non-null   float64\n",
      " 9   Embarked_2   1309 non-null   float64\n",
      " 10  Embarked_3   1309 non-null   float64\n",
      " 11  Pclass_1     1309 non-null   float64\n",
      " 12  Pclass_2     1309 non-null   float64\n",
      " 13  Pclass_3     1309 non-null   float64\n",
      "dtypes: float64(11), int64(3)\n",
      "memory usage: 143.3 KB\n"
     ]
    }
   ],
   "source": [
    "df_all.info()"
   ]
  },
  {
   "cell_type": "markdown",
   "id": "5ccb5ae4",
   "metadata": {
    "ExecuteTime": {
     "end_time": "2021-09-07T03:26:29.834099Z",
     "start_time": "2021-09-07T03:26:29.821134Z"
    }
   },
   "source": [
    "## 数据切分"
   ]
  },
  {
   "cell_type": "code",
   "execution_count": 238,
   "id": "07b2a42c",
   "metadata": {
    "ExecuteTime": {
     "end_time": "2021-09-17T07:55:12.852323Z",
     "start_time": "2021-09-17T07:55:12.842296Z"
    }
   },
   "outputs": [],
   "source": [
    "df_train = df_all.loc[:890]\n",
    "df_test = df_all.loc[891:]\n",
    "\n",
    "del df_test['Survived']\n",
    "y_train = df_train['Survived'].values\n",
    "del df_train['Survived']"
   ]
  },
  {
   "cell_type": "code",
   "execution_count": 239,
   "id": "1d447c14",
   "metadata": {
    "ExecuteTime": {
     "end_time": "2021-09-17T07:55:12.866361Z",
     "start_time": "2021-09-17T07:55:12.854329Z"
    }
   },
   "outputs": [
    {
     "data": {
      "text/plain": [
       "(891, 13)"
      ]
     },
     "execution_count": 239,
     "metadata": {},
     "output_type": "execute_result"
    }
   ],
   "source": [
    "df_train.shape"
   ]
  },
  {
   "cell_type": "code",
   "execution_count": 240,
   "id": "aae05a42",
   "metadata": {
    "ExecuteTime": {
     "end_time": "2021-09-17T07:55:12.878392Z",
     "start_time": "2021-09-17T07:55:12.869369Z"
    }
   },
   "outputs": [
    {
     "data": {
      "text/plain": [
       "(418, 13)"
      ]
     },
     "execution_count": 240,
     "metadata": {},
     "output_type": "execute_result"
    }
   ],
   "source": [
    "df_test.shape"
   ]
  },
  {
   "cell_type": "code",
   "execution_count": 241,
   "id": "2452aade",
   "metadata": {
    "ExecuteTime": {
     "end_time": "2021-09-17T07:55:12.890425Z",
     "start_time": "2021-09-17T07:55:12.880399Z"
    }
   },
   "outputs": [
    {
     "data": {
      "text/plain": [
       "(891,)"
      ]
     },
     "execution_count": 241,
     "metadata": {},
     "output_type": "execute_result"
    }
   ],
   "source": [
    "y_train.shape"
   ]
  },
  {
   "cell_type": "markdown",
   "id": "b84c27ef",
   "metadata": {},
   "source": [
    "## 标准化"
   ]
  },
  {
   "cell_type": "code",
   "execution_count": 242,
   "id": "199a00fb",
   "metadata": {
    "ExecuteTime": {
     "end_time": "2021-09-17T07:55:12.912483Z",
     "start_time": "2021-09-17T07:55:12.892430Z"
    }
   },
   "outputs": [
    {
     "name": "stdout",
     "output_type": "stream",
     "text": [
      "x_train shape: (891, 13)\n",
      "y_train shape: (891,)\n",
      "x_test shape: (418, 13)\n"
     ]
    }
   ],
   "source": [
    "x_train = StandardScaler().fit_transform(df_train)\n",
    "x_test = StandardScaler().fit_transform(df_test)\n",
    "\n",
    "print('x_train shape: {}'.format(x_train.shape))\n",
    "print('y_train shape: {}'.format(y_train.shape))\n",
    "print('x_test shape: {}'.format(x_test.shape))"
   ]
  },
  {
   "cell_type": "markdown",
   "id": "0fa84372",
   "metadata": {
    "ExecuteTime": {
     "end_time": "2021-09-06T09:46:21.356415Z",
     "start_time": "2021-09-06T09:46:21.333477Z"
    }
   },
   "source": [
    "# model"
   ]
  },
  {
   "cell_type": "markdown",
   "id": "e83fff34",
   "metadata": {},
   "source": [
    "## 决策树"
   ]
  },
  {
   "cell_type": "code",
   "execution_count": 243,
   "id": "065d60e5",
   "metadata": {
    "ExecuteTime": {
     "end_time": "2021-09-17T07:55:12.920505Z",
     "start_time": "2021-09-17T07:55:12.915492Z"
    }
   },
   "outputs": [],
   "source": [
    "df_result = pd.DataFrame()"
   ]
  },
  {
   "cell_type": "code",
   "execution_count": 244,
   "id": "199dface",
   "metadata": {
    "ExecuteTime": {
     "end_time": "2021-09-17T07:55:12.947577Z",
     "start_time": "2021-09-17T07:55:12.923513Z"
    }
   },
   "outputs": [
    {
     "data": {
      "text/html": [
       "<div>\n",
       "<style scoped>\n",
       "    .dataframe tbody tr th:only-of-type {\n",
       "        vertical-align: middle;\n",
       "    }\n",
       "\n",
       "    .dataframe tbody tr th {\n",
       "        vertical-align: top;\n",
       "    }\n",
       "\n",
       "    .dataframe thead th {\n",
       "        text-align: right;\n",
       "    }\n",
       "</style>\n",
       "<table border=\"1\" class=\"dataframe\">\n",
       "  <thead>\n",
       "    <tr style=\"text-align: right;\">\n",
       "      <th></th>\n",
       "      <th>y_predict_with_dtree</th>\n",
       "    </tr>\n",
       "  </thead>\n",
       "  <tbody>\n",
       "    <tr>\n",
       "      <th>0</th>\n",
       "      <td>0.0</td>\n",
       "    </tr>\n",
       "    <tr>\n",
       "      <th>1</th>\n",
       "      <td>0.0</td>\n",
       "    </tr>\n",
       "    <tr>\n",
       "      <th>2</th>\n",
       "      <td>1.0</td>\n",
       "    </tr>\n",
       "    <tr>\n",
       "      <th>3</th>\n",
       "      <td>1.0</td>\n",
       "    </tr>\n",
       "    <tr>\n",
       "      <th>4</th>\n",
       "      <td>1.0</td>\n",
       "    </tr>\n",
       "    <tr>\n",
       "      <th>...</th>\n",
       "      <td>...</td>\n",
       "    </tr>\n",
       "    <tr>\n",
       "      <th>413</th>\n",
       "      <td>0.0</td>\n",
       "    </tr>\n",
       "    <tr>\n",
       "      <th>414</th>\n",
       "      <td>1.0</td>\n",
       "    </tr>\n",
       "    <tr>\n",
       "      <th>415</th>\n",
       "      <td>0.0</td>\n",
       "    </tr>\n",
       "    <tr>\n",
       "      <th>416</th>\n",
       "      <td>0.0</td>\n",
       "    </tr>\n",
       "    <tr>\n",
       "      <th>417</th>\n",
       "      <td>1.0</td>\n",
       "    </tr>\n",
       "  </tbody>\n",
       "</table>\n",
       "<p>418 rows × 1 columns</p>\n",
       "</div>"
      ],
      "text/plain": [
       "     y_predict_with_dtree\n",
       "0                     0.0\n",
       "1                     0.0\n",
       "2                     1.0\n",
       "3                     1.0\n",
       "4                     1.0\n",
       "..                    ...\n",
       "413                   0.0\n",
       "414                   1.0\n",
       "415                   0.0\n",
       "416                   0.0\n",
       "417                   1.0\n",
       "\n",
       "[418 rows x 1 columns]"
      ]
     },
     "execution_count": 244,
     "metadata": {},
     "output_type": "execute_result"
    }
   ],
   "source": [
    "from sklearn import tree \n",
    "decision_tree_model = tree.DecisionTreeClassifier()\n",
    "decision_tree_model.fit(x_train,y_train)\n",
    "y_predict_with_dtree = decision_tree_model.predict(x_test)\n",
    "\n",
    "df_result['y_predict_with_dtree'] = y_predict_with_dtree\n",
    "df_result"
   ]
  },
  {
   "cell_type": "markdown",
   "id": "00737d57",
   "metadata": {},
   "source": [
    "## 逻辑回归"
   ]
  },
  {
   "cell_type": "code",
   "execution_count": 245,
   "id": "e5d19dfa",
   "metadata": {
    "ExecuteTime": {
     "end_time": "2021-09-17T07:55:12.954596Z",
     "start_time": "2021-09-17T07:55:12.949582Z"
    }
   },
   "outputs": [],
   "source": [
    "from sklearn.linear_model import LogisticRegression"
   ]
  },
  {
   "cell_type": "code",
   "execution_count": 246,
   "id": "a1922867",
   "metadata": {
    "ExecuteTime": {
     "end_time": "2021-09-17T07:55:12.982670Z",
     "start_time": "2021-09-17T07:55:12.956601Z"
    }
   },
   "outputs": [
    {
     "data": {
      "text/html": [
       "<div>\n",
       "<style scoped>\n",
       "    .dataframe tbody tr th:only-of-type {\n",
       "        vertical-align: middle;\n",
       "    }\n",
       "\n",
       "    .dataframe tbody tr th {\n",
       "        vertical-align: top;\n",
       "    }\n",
       "\n",
       "    .dataframe thead th {\n",
       "        text-align: right;\n",
       "    }\n",
       "</style>\n",
       "<table border=\"1\" class=\"dataframe\">\n",
       "  <thead>\n",
       "    <tr style=\"text-align: right;\">\n",
       "      <th></th>\n",
       "      <th>y_predict_with_dtree</th>\n",
       "      <th>y_predict_with_logisticReg</th>\n",
       "    </tr>\n",
       "  </thead>\n",
       "  <tbody>\n",
       "    <tr>\n",
       "      <th>0</th>\n",
       "      <td>0.0</td>\n",
       "      <td>0.0</td>\n",
       "    </tr>\n",
       "    <tr>\n",
       "      <th>1</th>\n",
       "      <td>0.0</td>\n",
       "      <td>0.0</td>\n",
       "    </tr>\n",
       "    <tr>\n",
       "      <th>2</th>\n",
       "      <td>1.0</td>\n",
       "      <td>0.0</td>\n",
       "    </tr>\n",
       "    <tr>\n",
       "      <th>3</th>\n",
       "      <td>1.0</td>\n",
       "      <td>0.0</td>\n",
       "    </tr>\n",
       "    <tr>\n",
       "      <th>4</th>\n",
       "      <td>1.0</td>\n",
       "      <td>1.0</td>\n",
       "    </tr>\n",
       "    <tr>\n",
       "      <th>...</th>\n",
       "      <td>...</td>\n",
       "      <td>...</td>\n",
       "    </tr>\n",
       "    <tr>\n",
       "      <th>413</th>\n",
       "      <td>0.0</td>\n",
       "      <td>0.0</td>\n",
       "    </tr>\n",
       "    <tr>\n",
       "      <th>414</th>\n",
       "      <td>1.0</td>\n",
       "      <td>1.0</td>\n",
       "    </tr>\n",
       "    <tr>\n",
       "      <th>415</th>\n",
       "      <td>0.0</td>\n",
       "      <td>0.0</td>\n",
       "    </tr>\n",
       "    <tr>\n",
       "      <th>416</th>\n",
       "      <td>0.0</td>\n",
       "      <td>0.0</td>\n",
       "    </tr>\n",
       "    <tr>\n",
       "      <th>417</th>\n",
       "      <td>1.0</td>\n",
       "      <td>0.0</td>\n",
       "    </tr>\n",
       "  </tbody>\n",
       "</table>\n",
       "<p>418 rows × 2 columns</p>\n",
       "</div>"
      ],
      "text/plain": [
       "     y_predict_with_dtree  y_predict_with_logisticReg\n",
       "0                     0.0                         0.0\n",
       "1                     0.0                         0.0\n",
       "2                     1.0                         0.0\n",
       "3                     1.0                         0.0\n",
       "4                     1.0                         1.0\n",
       "..                    ...                         ...\n",
       "413                   0.0                         0.0\n",
       "414                   1.0                         1.0\n",
       "415                   0.0                         0.0\n",
       "416                   0.0                         0.0\n",
       "417                   1.0                         0.0\n",
       "\n",
       "[418 rows x 2 columns]"
      ]
     },
     "execution_count": 246,
     "metadata": {},
     "output_type": "execute_result"
    }
   ],
   "source": [
    "lr = LogisticRegression().fit(x_train,y_train)\n",
    "y_predict_with_logisticReg = lr.predict(x_test)\n",
    "\n",
    "df_result['y_predict_with_logisticReg'] = y_predict_with_logisticReg\n",
    "df_result"
   ]
  },
  {
   "cell_type": "markdown",
   "id": "2129805b",
   "metadata": {},
   "source": [
    "## 支持向量机"
   ]
  },
  {
   "cell_type": "code",
   "execution_count": 247,
   "id": "94e61c78",
   "metadata": {
    "ExecuteTime": {
     "end_time": "2021-09-17T07:55:12.987684Z",
     "start_time": "2021-09-17T07:55:12.984675Z"
    }
   },
   "outputs": [],
   "source": [
    "from sklearn import svm"
   ]
  },
  {
   "cell_type": "code",
   "execution_count": 248,
   "id": "38e8114b",
   "metadata": {
    "ExecuteTime": {
     "end_time": "2021-09-17T07:55:13.062883Z",
     "start_time": "2021-09-17T07:55:12.989689Z"
    }
   },
   "outputs": [
    {
     "data": {
      "text/html": [
       "<div>\n",
       "<style scoped>\n",
       "    .dataframe tbody tr th:only-of-type {\n",
       "        vertical-align: middle;\n",
       "    }\n",
       "\n",
       "    .dataframe tbody tr th {\n",
       "        vertical-align: top;\n",
       "    }\n",
       "\n",
       "    .dataframe thead th {\n",
       "        text-align: right;\n",
       "    }\n",
       "</style>\n",
       "<table border=\"1\" class=\"dataframe\">\n",
       "  <thead>\n",
       "    <tr style=\"text-align: right;\">\n",
       "      <th></th>\n",
       "      <th>y_predict_with_dtree</th>\n",
       "      <th>y_predict_with_logisticReg</th>\n",
       "      <th>y_predict_with_svm</th>\n",
       "    </tr>\n",
       "  </thead>\n",
       "  <tbody>\n",
       "    <tr>\n",
       "      <th>0</th>\n",
       "      <td>0.0</td>\n",
       "      <td>0.0</td>\n",
       "      <td>0.0</td>\n",
       "    </tr>\n",
       "    <tr>\n",
       "      <th>1</th>\n",
       "      <td>0.0</td>\n",
       "      <td>0.0</td>\n",
       "      <td>0.0</td>\n",
       "    </tr>\n",
       "    <tr>\n",
       "      <th>2</th>\n",
       "      <td>1.0</td>\n",
       "      <td>0.0</td>\n",
       "      <td>0.0</td>\n",
       "    </tr>\n",
       "    <tr>\n",
       "      <th>3</th>\n",
       "      <td>1.0</td>\n",
       "      <td>0.0</td>\n",
       "      <td>0.0</td>\n",
       "    </tr>\n",
       "    <tr>\n",
       "      <th>4</th>\n",
       "      <td>1.0</td>\n",
       "      <td>1.0</td>\n",
       "      <td>0.0</td>\n",
       "    </tr>\n",
       "    <tr>\n",
       "      <th>...</th>\n",
       "      <td>...</td>\n",
       "      <td>...</td>\n",
       "      <td>...</td>\n",
       "    </tr>\n",
       "    <tr>\n",
       "      <th>413</th>\n",
       "      <td>0.0</td>\n",
       "      <td>0.0</td>\n",
       "      <td>0.0</td>\n",
       "    </tr>\n",
       "    <tr>\n",
       "      <th>414</th>\n",
       "      <td>1.0</td>\n",
       "      <td>1.0</td>\n",
       "      <td>1.0</td>\n",
       "    </tr>\n",
       "    <tr>\n",
       "      <th>415</th>\n",
       "      <td>0.0</td>\n",
       "      <td>0.0</td>\n",
       "      <td>0.0</td>\n",
       "    </tr>\n",
       "    <tr>\n",
       "      <th>416</th>\n",
       "      <td>0.0</td>\n",
       "      <td>0.0</td>\n",
       "      <td>0.0</td>\n",
       "    </tr>\n",
       "    <tr>\n",
       "      <th>417</th>\n",
       "      <td>1.0</td>\n",
       "      <td>0.0</td>\n",
       "      <td>0.0</td>\n",
       "    </tr>\n",
       "  </tbody>\n",
       "</table>\n",
       "<p>418 rows × 3 columns</p>\n",
       "</div>"
      ],
      "text/plain": [
       "     y_predict_with_dtree  y_predict_with_logisticReg  y_predict_with_svm\n",
       "0                     0.0                         0.0                 0.0\n",
       "1                     0.0                         0.0                 0.0\n",
       "2                     1.0                         0.0                 0.0\n",
       "3                     1.0                         0.0                 0.0\n",
       "4                     1.0                         1.0                 0.0\n",
       "..                    ...                         ...                 ...\n",
       "413                   0.0                         0.0                 0.0\n",
       "414                   1.0                         1.0                 1.0\n",
       "415                   0.0                         0.0                 0.0\n",
       "416                   0.0                         0.0                 0.0\n",
       "417                   1.0                         0.0                 0.0\n",
       "\n",
       "[418 rows x 3 columns]"
      ]
     },
     "execution_count": 248,
     "metadata": {},
     "output_type": "execute_result"
    }
   ],
   "source": [
    "svm_model = svm.SVC()\n",
    "svm_model.fit(x_train,y_train)\n",
    "y_predict_with_svm = svm_model.predict(x_test)\n",
    "\n",
    "df_result['y_predict_with_svm'] = y_predict_with_svm\n",
    "df_result"
   ]
  },
  {
   "cell_type": "markdown",
   "id": "d55705a1",
   "metadata": {},
   "source": [
    "## KNN"
   ]
  },
  {
   "cell_type": "code",
   "execution_count": 249,
   "id": "cf16104a",
   "metadata": {
    "ExecuteTime": {
     "end_time": "2021-09-17T07:55:13.067898Z",
     "start_time": "2021-09-17T07:55:13.064889Z"
    }
   },
   "outputs": [],
   "source": [
    "from sklearn import neighbors"
   ]
  },
  {
   "cell_type": "code",
   "execution_count": 250,
   "id": "8b0839c8",
   "metadata": {
    "ExecuteTime": {
     "end_time": "2021-09-17T07:55:13.132669Z",
     "start_time": "2021-09-17T07:55:13.069902Z"
    }
   },
   "outputs": [
    {
     "data": {
      "text/html": [
       "<div>\n",
       "<style scoped>\n",
       "    .dataframe tbody tr th:only-of-type {\n",
       "        vertical-align: middle;\n",
       "    }\n",
       "\n",
       "    .dataframe tbody tr th {\n",
       "        vertical-align: top;\n",
       "    }\n",
       "\n",
       "    .dataframe thead th {\n",
       "        text-align: right;\n",
       "    }\n",
       "</style>\n",
       "<table border=\"1\" class=\"dataframe\">\n",
       "  <thead>\n",
       "    <tr style=\"text-align: right;\">\n",
       "      <th></th>\n",
       "      <th>y_predict_with_dtree</th>\n",
       "      <th>y_predict_with_logisticReg</th>\n",
       "      <th>y_predict_with_svm</th>\n",
       "      <th>y_predict_with_knn</th>\n",
       "    </tr>\n",
       "  </thead>\n",
       "  <tbody>\n",
       "    <tr>\n",
       "      <th>0</th>\n",
       "      <td>0.0</td>\n",
       "      <td>0.0</td>\n",
       "      <td>0.0</td>\n",
       "      <td>0.0</td>\n",
       "    </tr>\n",
       "    <tr>\n",
       "      <th>1</th>\n",
       "      <td>0.0</td>\n",
       "      <td>0.0</td>\n",
       "      <td>0.0</td>\n",
       "      <td>0.0</td>\n",
       "    </tr>\n",
       "    <tr>\n",
       "      <th>2</th>\n",
       "      <td>1.0</td>\n",
       "      <td>0.0</td>\n",
       "      <td>0.0</td>\n",
       "      <td>0.0</td>\n",
       "    </tr>\n",
       "    <tr>\n",
       "      <th>3</th>\n",
       "      <td>1.0</td>\n",
       "      <td>0.0</td>\n",
       "      <td>0.0</td>\n",
       "      <td>0.0</td>\n",
       "    </tr>\n",
       "    <tr>\n",
       "      <th>4</th>\n",
       "      <td>1.0</td>\n",
       "      <td>1.0</td>\n",
       "      <td>0.0</td>\n",
       "      <td>0.0</td>\n",
       "    </tr>\n",
       "    <tr>\n",
       "      <th>...</th>\n",
       "      <td>...</td>\n",
       "      <td>...</td>\n",
       "      <td>...</td>\n",
       "      <td>...</td>\n",
       "    </tr>\n",
       "    <tr>\n",
       "      <th>413</th>\n",
       "      <td>0.0</td>\n",
       "      <td>0.0</td>\n",
       "      <td>0.0</td>\n",
       "      <td>0.0</td>\n",
       "    </tr>\n",
       "    <tr>\n",
       "      <th>414</th>\n",
       "      <td>1.0</td>\n",
       "      <td>1.0</td>\n",
       "      <td>1.0</td>\n",
       "      <td>1.0</td>\n",
       "    </tr>\n",
       "    <tr>\n",
       "      <th>415</th>\n",
       "      <td>0.0</td>\n",
       "      <td>0.0</td>\n",
       "      <td>0.0</td>\n",
       "      <td>0.0</td>\n",
       "    </tr>\n",
       "    <tr>\n",
       "      <th>416</th>\n",
       "      <td>0.0</td>\n",
       "      <td>0.0</td>\n",
       "      <td>0.0</td>\n",
       "      <td>0.0</td>\n",
       "    </tr>\n",
       "    <tr>\n",
       "      <th>417</th>\n",
       "      <td>1.0</td>\n",
       "      <td>0.0</td>\n",
       "      <td>0.0</td>\n",
       "      <td>1.0</td>\n",
       "    </tr>\n",
       "  </tbody>\n",
       "</table>\n",
       "<p>418 rows × 4 columns</p>\n",
       "</div>"
      ],
      "text/plain": [
       "     y_predict_with_dtree  y_predict_with_logisticReg  y_predict_with_svm  \\\n",
       "0                     0.0                         0.0                 0.0   \n",
       "1                     0.0                         0.0                 0.0   \n",
       "2                     1.0                         0.0                 0.0   \n",
       "3                     1.0                         0.0                 0.0   \n",
       "4                     1.0                         1.0                 0.0   \n",
       "..                    ...                         ...                 ...   \n",
       "413                   0.0                         0.0                 0.0   \n",
       "414                   1.0                         1.0                 1.0   \n",
       "415                   0.0                         0.0                 0.0   \n",
       "416                   0.0                         0.0                 0.0   \n",
       "417                   1.0                         0.0                 0.0   \n",
       "\n",
       "     y_predict_with_knn  \n",
       "0                   0.0  \n",
       "1                   0.0  \n",
       "2                   0.0  \n",
       "3                   0.0  \n",
       "4                   0.0  \n",
       "..                  ...  \n",
       "413                 0.0  \n",
       "414                 1.0  \n",
       "415                 0.0  \n",
       "416                 0.0  \n",
       "417                 1.0  \n",
       "\n",
       "[418 rows x 4 columns]"
      ]
     },
     "execution_count": 250,
     "metadata": {},
     "output_type": "execute_result"
    }
   ],
   "source": [
    "knnmodel = neighbors.KNeighborsClassifier(n_neighbors=2) #n_neighbors参数为分类个数\n",
    "knnmodel.fit(x_train,y_train)\n",
    "\n",
    "y_predict_with_knn = knnmodel.predict(x_test)\n",
    "df_result['y_predict_with_knn'] = y_predict_with_knn\n",
    "df_result"
   ]
  },
  {
   "cell_type": "markdown",
   "id": "1315d4d3",
   "metadata": {
    "ExecuteTime": {
     "end_time": "2021-09-10T03:06:14.593181Z",
     "start_time": "2021-09-10T03:06:14.547282Z"
    }
   },
   "source": [
    "## 随机森林"
   ]
  },
  {
   "cell_type": "code",
   "execution_count": 251,
   "id": "1131b814",
   "metadata": {
    "ExecuteTime": {
     "end_time": "2021-09-17T07:55:13.138685Z",
     "start_time": "2021-09-17T07:55:13.134674Z"
    }
   },
   "outputs": [],
   "source": [
    "from sklearn.ensemble import RandomForestClassifier"
   ]
  },
  {
   "cell_type": "code",
   "execution_count": 252,
   "id": "8eec563b",
   "metadata": {
    "ExecuteTime": {
     "end_time": "2021-09-17T07:55:13.399428Z",
     "start_time": "2021-09-17T07:55:13.140691Z"
    }
   },
   "outputs": [
    {
     "data": {
      "text/html": [
       "<div>\n",
       "<style scoped>\n",
       "    .dataframe tbody tr th:only-of-type {\n",
       "        vertical-align: middle;\n",
       "    }\n",
       "\n",
       "    .dataframe tbody tr th {\n",
       "        vertical-align: top;\n",
       "    }\n",
       "\n",
       "    .dataframe thead th {\n",
       "        text-align: right;\n",
       "    }\n",
       "</style>\n",
       "<table border=\"1\" class=\"dataframe\">\n",
       "  <thead>\n",
       "    <tr style=\"text-align: right;\">\n",
       "      <th></th>\n",
       "      <th>y_predict_with_dtree</th>\n",
       "      <th>y_predict_with_logisticReg</th>\n",
       "      <th>y_predict_with_svm</th>\n",
       "      <th>y_predict_with_knn</th>\n",
       "      <th>y_predict_with_random_forest</th>\n",
       "    </tr>\n",
       "  </thead>\n",
       "  <tbody>\n",
       "    <tr>\n",
       "      <th>0</th>\n",
       "      <td>0.0</td>\n",
       "      <td>0.0</td>\n",
       "      <td>0.0</td>\n",
       "      <td>0.0</td>\n",
       "      <td>0.0</td>\n",
       "    </tr>\n",
       "    <tr>\n",
       "      <th>1</th>\n",
       "      <td>0.0</td>\n",
       "      <td>0.0</td>\n",
       "      <td>0.0</td>\n",
       "      <td>0.0</td>\n",
       "      <td>0.0</td>\n",
       "    </tr>\n",
       "    <tr>\n",
       "      <th>2</th>\n",
       "      <td>1.0</td>\n",
       "      <td>0.0</td>\n",
       "      <td>0.0</td>\n",
       "      <td>0.0</td>\n",
       "      <td>0.0</td>\n",
       "    </tr>\n",
       "    <tr>\n",
       "      <th>3</th>\n",
       "      <td>1.0</td>\n",
       "      <td>0.0</td>\n",
       "      <td>0.0</td>\n",
       "      <td>0.0</td>\n",
       "      <td>0.0</td>\n",
       "    </tr>\n",
       "    <tr>\n",
       "      <th>4</th>\n",
       "      <td>1.0</td>\n",
       "      <td>1.0</td>\n",
       "      <td>0.0</td>\n",
       "      <td>0.0</td>\n",
       "      <td>0.0</td>\n",
       "    </tr>\n",
       "    <tr>\n",
       "      <th>...</th>\n",
       "      <td>...</td>\n",
       "      <td>...</td>\n",
       "      <td>...</td>\n",
       "      <td>...</td>\n",
       "      <td>...</td>\n",
       "    </tr>\n",
       "    <tr>\n",
       "      <th>413</th>\n",
       "      <td>0.0</td>\n",
       "      <td>0.0</td>\n",
       "      <td>0.0</td>\n",
       "      <td>0.0</td>\n",
       "      <td>0.0</td>\n",
       "    </tr>\n",
       "    <tr>\n",
       "      <th>414</th>\n",
       "      <td>1.0</td>\n",
       "      <td>1.0</td>\n",
       "      <td>1.0</td>\n",
       "      <td>1.0</td>\n",
       "      <td>1.0</td>\n",
       "    </tr>\n",
       "    <tr>\n",
       "      <th>415</th>\n",
       "      <td>0.0</td>\n",
       "      <td>0.0</td>\n",
       "      <td>0.0</td>\n",
       "      <td>0.0</td>\n",
       "      <td>0.0</td>\n",
       "    </tr>\n",
       "    <tr>\n",
       "      <th>416</th>\n",
       "      <td>0.0</td>\n",
       "      <td>0.0</td>\n",
       "      <td>0.0</td>\n",
       "      <td>0.0</td>\n",
       "      <td>0.0</td>\n",
       "    </tr>\n",
       "    <tr>\n",
       "      <th>417</th>\n",
       "      <td>1.0</td>\n",
       "      <td>0.0</td>\n",
       "      <td>0.0</td>\n",
       "      <td>1.0</td>\n",
       "      <td>1.0</td>\n",
       "    </tr>\n",
       "  </tbody>\n",
       "</table>\n",
       "<p>418 rows × 5 columns</p>\n",
       "</div>"
      ],
      "text/plain": [
       "     y_predict_with_dtree  y_predict_with_logisticReg  y_predict_with_svm  \\\n",
       "0                     0.0                         0.0                 0.0   \n",
       "1                     0.0                         0.0                 0.0   \n",
       "2                     1.0                         0.0                 0.0   \n",
       "3                     1.0                         0.0                 0.0   \n",
       "4                     1.0                         1.0                 0.0   \n",
       "..                    ...                         ...                 ...   \n",
       "413                   0.0                         0.0                 0.0   \n",
       "414                   1.0                         1.0                 1.0   \n",
       "415                   0.0                         0.0                 0.0   \n",
       "416                   0.0                         0.0                 0.0   \n",
       "417                   1.0                         0.0                 0.0   \n",
       "\n",
       "     y_predict_with_knn  y_predict_with_random_forest  \n",
       "0                   0.0                           0.0  \n",
       "1                   0.0                           0.0  \n",
       "2                   0.0                           0.0  \n",
       "3                   0.0                           0.0  \n",
       "4                   0.0                           0.0  \n",
       "..                  ...                           ...  \n",
       "413                 0.0                           0.0  \n",
       "414                 1.0                           1.0  \n",
       "415                 0.0                           0.0  \n",
       "416                 0.0                           0.0  \n",
       "417                 1.0                           1.0  \n",
       "\n",
       "[418 rows x 5 columns]"
      ]
     },
     "execution_count": 252,
     "metadata": {},
     "output_type": "execute_result"
    }
   ],
   "source": [
    "model_randomforest = RandomForestClassifier().fit(x_train,y_train)\n",
    "y_predict_with_random_forest = model_randomforest.predict(x_test)\n",
    "df_result['y_predict_with_random_forest'] = y_predict_with_random_forest\n",
    "df_result"
   ]
  },
  {
   "cell_type": "markdown",
   "id": "4c8eacf7",
   "metadata": {},
   "source": [
    "# 结果验证"
   ]
  },
  {
   "cell_type": "markdown",
   "id": "9cdee77a",
   "metadata": {},
   "source": [
    "这里为了本地快速得到我的预测数据的正确率，我从kaggle其他大神提交记录下获得了正确率为100%的预测结果作为验证数据；<br />\n",
    "所以上面五个模型的正确率如下，<span class=\"burk\">随机森林</span>得分最高：0.7871。"
   ]
  },
  {
   "cell_type": "code",
   "execution_count": 253,
   "id": "90121478",
   "metadata": {
    "ExecuteTime": {
     "end_time": "2021-09-17T07:55:13.444547Z",
     "start_time": "2021-09-17T07:55:13.401431Z"
    }
   },
   "outputs": [
    {
     "name": "stdout",
     "output_type": "stream",
     "text": [
      "y_predict_with_dtree 正确率为：\n",
      "0.7249\n",
      "y_predict_with_logisticReg 正确率为：\n",
      "0.7679\n",
      "y_predict_with_svm 正确率为：\n",
      "0.7775\n",
      "y_predict_with_knn 正确率为：\n",
      "0.7632\n",
      "y_predict_with_random_forest 正确率为：\n",
      "0.7608\n"
     ]
    }
   ],
   "source": [
    "df_check = pd.read_csv(r'../titanic_dir/titanic_data/正确_submission_titanic.csv')\n",
    "df_check = df_check['Survived']\n",
    "# df_check\n",
    "for column in df_result:\n",
    "    df_concat = pd.concat([df_result[column],df_check],axis=1)\n",
    "    df_concat['predict_tag'] = df_concat.apply(lambda x: 1 if x[0]==x[1] else 0,axis=1)\n",
    "    right_rate = df_concat['predict_tag'].sum()/df_concat['predict_tag'].count()\n",
    "    print(column,'正确率为：')\n",
    "    print(np.round(right_rate,4))"
   ]
  },
  {
   "cell_type": "code",
   "execution_count": null,
   "id": "75eb0bd7",
   "metadata": {},
   "outputs": [],
   "source": []
  }
 ],
 "metadata": {
  "hide_input": false,
  "kernelspec": {
   "display_name": "Python 3",
   "language": "python",
   "name": "python3"
  },
  "language_info": {
   "codemirror_mode": {
    "name": "ipython",
    "version": 3
   },
   "file_extension": ".py",
   "mimetype": "text/x-python",
   "name": "python",
   "nbconvert_exporter": "python",
   "pygments_lexer": "ipython3",
   "version": "3.9.2"
  },
  "toc": {
   "base_numbering": 1,
   "nav_menu": {},
   "number_sections": true,
   "sideBar": true,
   "skip_h1_title": false,
   "title_cell": "Table of Contents",
   "title_sidebar": "Contents",
   "toc_cell": false,
   "toc_position": {
    "height": "779px",
    "left": "41px",
    "top": "110px",
    "width": "296px"
   },
   "toc_section_display": true,
   "toc_window_display": true
  }
 },
 "nbformat": 4,
 "nbformat_minor": 5
}
